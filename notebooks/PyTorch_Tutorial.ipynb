{
  "cells": [
    {
      "cell_type": "code",
      "execution_count": 1,
      "metadata": {
        "id": "gWtK-XA2qKHp"
      },
      "outputs": [
        {
          "data": {
            "text/html": [
              "\n",
              "                <script type=\"application/javascript\" id=\"jupyter_black\">\n",
              "                (function() {\n",
              "                    if (window.IPython === undefined) {\n",
              "                        return\n",
              "                    }\n",
              "                    var msg = \"WARNING: it looks like you might have loaded \" +\n",
              "                        \"jupyter_black in a non-lab notebook with \" +\n",
              "                        \"`is_lab=True`. Please double check, and if \" +\n",
              "                        \"loading with `%load_ext` please review the README!\"\n",
              "                    console.log(msg)\n",
              "                    alert(msg)\n",
              "                })()\n",
              "                </script>\n",
              "                "
            ],
            "text/plain": [
              "<IPython.core.display.HTML object>"
            ]
          },
          "metadata": {},
          "output_type": "display_data"
        }
      ],
      "source": [
        "import jupyter_black\n",
        "\n",
        "import numpy as np\n",
        "from matplotlib import pyplot as plt\n",
        "\n",
        "jupyter_black.load()"
      ]
    },
    {
      "cell_type": "code",
      "execution_count": 2,
      "metadata": {
        "colab": {
          "base_uri": "https://localhost:8080/",
          "height": 282
        },
        "id": "7soJu7iAqMr4",
        "outputId": "1043ba72-6198-4929-f416-4f32cec78e47"
      },
      "outputs": [
        {
          "data": {
            "text/plain": [
              "<matplotlib.image.AxesImage at 0x7f656a0465c0>"
            ]
          },
          "execution_count": 2,
          "metadata": {},
          "output_type": "execute_result"
        },
        {
          "data": {
            "image/png": "[encoded data removed]",
            "text/plain": [
              "<Figure size 640x480 with 1 Axes>"
            ]
          },
          "metadata": {},
          "output_type": "display_data"
        }
      ],
      "source": [
        "image = np.array(\n",
        "    [\n",
        "        [0, 0, 0, 0, 0, 0, 0, 0],\n",
        "        [0, 1, 1, 1, 1, 0, 0, 1],\n",
        "        [0, 1, 0, 0, 1, 0, 0, 1],\n",
        "        [0, 1, 0, 0, 1, 0, 0, 1],\n",
        "        [0, 1, 0, 0, 1, 0, 0, 1],\n",
        "        [0, 1, 0, 0, 1, 0, 0, 1],\n",
        "        [0, 1, 0, 0, 1, 1, 1, 1],\n",
        "        [0, 1, 0, 0, 0, 0, 0, 0],\n",
        "    ]\n",
        ")\n",
        "\n",
        "plt.imshow(image, cmap=\"gray\")"
      ]
    },
    {
      "cell_type": "code",
      "execution_count": 3,
      "metadata": {
        "id": "zmq5LE2Xq63v"
      },
      "outputs": [],
      "source": [
        "kernel = np.array([[-1, 0, 1], [-1, 0, 1], [-1, 0, 1]])\n",
        "\n",
        "\n",
        "def convolution(bin_image, kernel):\n",
        "    k_size = kernel.shape[0]\n",
        "    conv = []\n",
        "    for i in range(bin_image.shape[0] - k_size + 1):\n",
        "        for j in range(bin_image.shape[1] - k_size + 1):\n",
        "            section = bin_image[i : i + k_size, j : j + k_size]\n",
        "            conv.append((section * kernel).sum())\n",
        "    return np.array(conv).reshape(bin_image.shape[0] - k_size + 1, -1)"
      ]
    },
    {
      "cell_type": "code",
      "execution_count": 4,
      "metadata": {
        "colab": {
          "base_uri": "https://localhost:8080/",
          "height": 282
        },
        "id": "zqH2BsgjsP1Z",
        "outputId": "873e29da-3002-4200-fd7c-4664f22dc3b4"
      },
      "outputs": [
        {
          "data": {
            "text/plain": [
              "<matplotlib.image.AxesImage at 0x7f6569ed7ca0>"
            ]
          },
          "execution_count": 4,
          "metadata": {},
          "output_type": "execute_result"
        },
        {
          "data": {
            "image/png": "[encoded data removed]",
            "text/plain": [
              "<Figure size 640x480 with 1 Axes>"
            ]
          },
          "metadata": {},
          "output_type": "display_data"
        }
      ],
      "source": [
        "conv = convolution(image, kernel)\n",
        "plt.imshow(conv, cmap=\"gray\")"
      ]
    },
    {
      "cell_type": "code",
      "execution_count": 5,
      "metadata": {
        "id": "CbmeouFIKliv"
      },
      "outputs": [],
      "source": [
        "import torch\n",
        "from torch import nn\n",
        "from torch.utils.data import DataLoader\n",
        "from torchvision.utils import make_grid\n",
        "from torchvision.datasets import CIFAR10\n",
        "from torchvision.transforms import ToTensor\n",
        "from torchvision.transforms import Normalize, Compose\n",
        "import os\n",
        "import matplotlib.pyplot as plt\n",
        "import numpy as np"
      ]
    },
    {
      "cell_type": "code",
      "execution_count": 6,
      "metadata": {
        "id": "ozbd6WwGK7ec"
      },
      "outputs": [],
      "source": [
        "transform = Compose(\n",
        "    [\n",
        "        ToTensor(),\n",
        "        Normalize((0.5, 0.5, 0.5), (0.5, 0.5, 0.5)),  # mean по всем 3м каналам\n",
        "    ]  # std по всем 3м каналам\n",
        ")"
      ]
    },
    {
      "cell_type": "code",
      "execution_count": 7,
      "metadata": {
        "colab": {
          "base_uri": "https://localhost:8080/",
          "height": 101,
          "referenced_widgets": [
            "aae52a92be194118bc475f9805639029",
            "75e9b65def5043f8878094f65230a33c",
            "422a125492d341cbbcf028ea1aab3a94",
            "c040016ec490457683ae705b6063bbd0",
            "49862561d69541ff932cddf547651f41",
            "93e7ce6ac1824b10bf972b6799a967ed",
            "50156745f7764411b5bf26222bbb3b71",
            "62ceba9378174b7082c1d3e640a5c1ff",
            "567d8b028c8343fd928c029974ff435f",
            "e39940e338eb4f96bb828db9a312fb0d",
            "c7f35781f9ed4fdb9c3d158a8ce8c4b7"
          ]
        },
        "id": "-IXtUPTqM8qg",
        "outputId": "d69fd838-8458-4014-aae4-c2a738f45c7c"
      },
      "outputs": [
        {
          "name": "stdout",
          "output_type": "stream",
          "text": [
            "Downloading https://www.cs.toronto.edu/~kriz/cifar-10-python.tar.gz to cifar/cifar-10-python.tar.gz\n"
          ]
        },
        {
          "name": "stderr",
          "output_type": "stream",
          "text": [
            "100.0%\n"
          ]
        },
        {
          "name": "stdout",
          "output_type": "stream",
          "text": [
            "Extracting cifar/cifar-10-python.tar.gz to cifar\n",
            "Files already downloaded and verified\n"
          ]
        }
      ],
      "source": [
        "training_data = CIFAR10(root=\"cifar\", train=True, download=True, transform=transform)\n",
        "test_data = CIFAR10(root=\"cifar\", train=False, download=True, transform=transform)"
      ]
    },
    {
      "cell_type": "code",
      "execution_count": 8,
      "metadata": {
        "id": "2if3sP49NYmM"
      },
      "outputs": [],
      "source": [
        "batch_size = 4\n",
        "train_dataloader = DataLoader(training_data, batch_size=batch_size, shuffle=True)\n",
        "test_dataloader = DataLoader(test_data, batch_size=batch_size, shuffle=True)"
      ]
    },
    {
      "cell_type": "code",
      "execution_count": 9,
      "metadata": {
        "colab": {
          "base_uri": "https://localhost:8080/"
        },
        "id": "M_3mStFp1Sfs",
        "outputId": "632cfbf9-b438-47e5-db7d-f959b5bd4b5a"
      },
      "outputs": [
        {
          "name": "stdout",
          "output_type": "stream",
          "text": [
            "Shape of X [N, C, H, W]: torch.Size([4, 3, 32, 32])\n",
            "Shape of y: torch.Size([4])\n"
          ]
        }
      ],
      "source": [
        "for X, y in train_dataloader:\n",
        "    print(f\"Shape of X [N, C, H, W]: {X.shape}\")\n",
        "    print(f\"Shape of y: {y.shape}\")\n",
        "    break"
      ]
    },
    {
      "cell_type": "code",
      "execution_count": 10,
      "metadata": {
        "colab": {
          "base_uri": "https://localhost:8080/",
          "height": 173
        },
        "id": "FRCiuVGI1xV9",
        "outputId": "50d3f69c-303a-4d59-fd22-02084466f39e"
      },
      "outputs": [
        {
          "name": "stderr",
          "output_type": "stream",
          "text": [
            "WARNING:matplotlib.image:Clipping input data to the valid range for imshow with RGB data ([0..1] for floats or [0..255] for integers).\n"
          ]
        },
        {
          "data": {
            "image/png": "[encoded data removed]",
            "text/plain": [
              "<Figure size 640x480 with 1 Axes>"
            ]
          },
          "metadata": {},
          "output_type": "display_data"
        },
        {
          "name": "stdout",
          "output_type": "stream",
          "text": [
            "ship  cat   horse airplane\n"
          ]
        }
      ],
      "source": [
        "def imshow(img):\n",
        "    img = img / 2 + 0.05  # нормализация для просмотра\n",
        "    npimg = img.numpy()\n",
        "    plt.imshow(np.transpose(npimg, (1, 2, 0)))\n",
        "    plt.show()\n",
        "\n",
        "\n",
        "classes = training_data.classes\n",
        "\n",
        "dataiter = iter(train_dataloader)\n",
        "images, labels = next(dataiter)\n",
        "# make_grid() - создаёт сетку из изображений\n",
        "imshow(make_grid(images))\n",
        "print(\" \".join(f\"{classes[labels[j]]:5s}\" for j in range(batch_size)))"
      ]
    },
    {
      "cell_type": "code",
      "execution_count": 11,
      "metadata": {
        "id": "8aaAvTZwAUJC"
      },
      "outputs": [],
      "source": [
        "device = \"cuda\" if torch.cuda.is_available() else \"cpu\""
      ]
    },
    {
      "cell_type": "markdown",
      "metadata": {
        "id": "lnZVf-QTA7HC"
      },
      "source": [
        "# Определение базовой модели"
      ]
    },
    {
      "cell_type": "code",
      "execution_count": null,
      "metadata": {
        "colab": {
          "base_uri": "https://localhost:8080/"
        },
        "id": "LZrmFk7n2_z-",
        "outputId": "5e0857c6-d7e8-456f-c9a5-175cf240e700"
      },
      "outputs": [
        {
          "name": "stdout",
          "output_type": "stream",
          "text": [
            "NeuralNetwork(\n",
            "  (flatten): Flatten(start_dim=1, end_dim=-1)\n",
            "  (linear_relu_stack): Sequential(\n",
            "    (0): Linear(in_features=3072, out_features=1024, bias=True)\n",
            "    (1): ReLU()\n",
            "    (2): Linear(in_features=1024, out_features=512, bias=True)\n",
            "    (3): ReLU()\n",
            "    (4): Linear(in_features=512, out_features=10, bias=True)\n",
            "  )\n",
            ")\n"
          ]
        }
      ],
      "source": [
        "class NeuralNetwork(nn.Module):\n",
        "    def __init__(self):\n",
        "        super(NeuralNetwork, self).__init__()\n",
        "        self.flatten = nn.Flatten()\n",
        "        self.linear_relu_stack = nn.Sequential(\n",
        "            nn.Linear(32*32*3, 1024),\n",
        "            nn.ReLU(),\n",
        "            nn.Linear(1024, 512),\n",
        "            nn.ReLU(),\n",
        "            nn.Linear(512, 10)\n",
        "        )\n",
        "\n",
        "    def forward(self, x):\n",
        "        x = self.flatten(x)\n",
        "        logits = self.linear_relu_stack(x)\n",
        "        return logits\n",
        "    \n",
        "\n",
        "model = NeuralNetwork().to(device)\n",
        "print(model) "
      ]
    },
    {
      "cell_type": "markdown",
      "metadata": {
        "id": "ABQ-16JMBvMd"
      },
      "source": [
        "# Функция потерь и оптимизатор"
      ]
    },
    {
      "cell_type": "code",
      "execution_count": null,
      "metadata": {
        "id": "_aROPE2xBt8j"
      },
      "outputs": [],
      "source": [
        "loss_fn = nn.CrossEntropyLoss()\n",
        "optimizer = torch.optim.SGD( model.parameters(), lr=0.001 )"
      ]
    },
    {
      "cell_type": "code",
      "execution_count": null,
      "metadata": {
        "id": "Do52zQODCrYw"
      },
      "outputs": [],
      "source": [
        "def train(dataloader, model, loss_fn, optimizer):\n",
        "    size = len(dataloader.dataset)\n",
        "    # метод, который переводит модель в режим обучения, обеспечивая определённые\n",
        "    # варианты поведения, которые нам нужны (например, отсев, пакетная норма и т.д.)\n",
        "    model.train()\n",
        "    \n",
        "    for batch, (X, y) in enumerate(dataloader):\n",
        "        X, y = X.to(device), y.to(device)\n",
        "        # Compute prediction error\n",
        "        pred = model(X)\n",
        "        loss = loss_fn(pred, y)\n",
        "\n",
        "        # Backpropagation\n",
        "        optimizer.zero_grad()\n",
        "        loss.backward()\n",
        "        optimizer.step()\n",
        "\n",
        "        if batch % 2000 == 0:\n",
        "            loss, current = loss.item(), batch * len(X)\n",
        "            print(f\"Loss: {loss:>7f} [{current:5d}/{size:>5d}]\")"
      ]
    },
    {
      "cell_type": "markdown",
      "metadata": {
        "id": "GVpTumx7FB7q"
      },
      "source": [
        "# Определение метода тестирования"
      ]
    },
    {
      "cell_type": "code",
      "execution_count": null,
      "metadata": {
        "id": "ePEE3rKuEkAs"
      },
      "outputs": [],
      "source": [
        "def test(dataloader, model, loss_fn):\n",
        "    size = len(dataloader.dataset)\n",
        "    num_batches = len(dataloader)\n",
        "    # переводим модель в режим тестирования\n",
        "    model.eval()\n",
        "    test_loss, correct = 0, 0\n",
        "    # отключаем вычисление градиента, так как при тестировании \n",
        "    # backprop не используется\n",
        "    with torch.no_grad():\n",
        "        for X, y in dataloader:\n",
        "            X, y = X.to(device), y.to(device)\n",
        "            pred = model(X)\n",
        "            test_loss += loss_fn(pred, y).item()\n",
        "            correct += (pred.argmax(1) == y).type(torch.float).sum().item()\n",
        "    test_loss /= num_batches\n",
        "    correct /= size\n",
        "    print(f\"Test Error: \\n Accuracy: {(100*correct):>0.1f}%, Avg loss: {test_loss:>8f}\\n\")"
      ]
    },
    {
      "cell_type": "markdown",
      "metadata": {
        "id": "s-iYY2FFGUwG"
      },
      "source": [
        "# Обучение модели"
      ]
    },
    {
      "cell_type": "code",
      "execution_count": null,
      "metadata": {
        "colab": {
          "base_uri": "https://localhost:8080/"
        },
        "id": "eyzIJgAYGUMl",
        "outputId": "ddea85c2-cfdd-4b8f-d4d9-49ebb9992476"
      },
      "outputs": [
        {
          "name": "stdout",
          "output_type": "stream",
          "text": [
            "Epoch: 1\n",
            "--------------------\n",
            "Loss: 2.330102 [    0/50000]\n",
            "Loss: 2.022156 [ 8000/50000]\n",
            "Loss: 1.655453 [16000/50000]\n",
            "Loss: 1.671349 [24000/50000]\n",
            "Loss: 1.505009 [32000/50000]\n",
            "Loss: 1.961665 [40000/50000]\n",
            "Loss: 2.275244 [48000/50000]\n",
            "Test Error: \n",
            " Accuracy: 39.8%, Avg loss: 1.716523\n",
            "\n",
            "Epoch: 2\n",
            "--------------------\n",
            "Loss: 1.770401 [    0/50000]\n",
            "Loss: 1.172554 [ 8000/50000]\n",
            "Loss: 1.989920 [16000/50000]\n",
            "Loss: 1.548334 [24000/50000]\n",
            "Loss: 1.654644 [32000/50000]\n",
            "Loss: 2.501850 [40000/50000]\n",
            "Loss: 1.433309 [48000/50000]\n",
            "Test Error: \n",
            " Accuracy: 44.7%, Avg loss: 1.573339\n",
            "\n",
            "Epoch: 3\n",
            "--------------------\n",
            "Loss: 1.471023 [    0/50000]\n",
            "Loss: 1.751641 [ 8000/50000]\n",
            "Loss: 1.008131 [16000/50000]\n",
            "Loss: 1.373044 [24000/50000]\n",
            "Loss: 1.744503 [32000/50000]\n",
            "Loss: 0.873173 [40000/50000]\n",
            "Loss: 0.756935 [48000/50000]\n",
            "Test Error: \n",
            " Accuracy: 48.0%, Avg loss: 1.490790\n",
            "\n",
            "Epoch: 4\n",
            "--------------------\n",
            "Loss: 2.128883 [    0/50000]\n",
            "Loss: 1.593740 [ 8000/50000]\n",
            "Loss: 2.422871 [16000/50000]\n",
            "Loss: 1.245415 [24000/50000]\n",
            "Loss: 1.674164 [32000/50000]\n",
            "Loss: 0.925650 [40000/50000]\n",
            "Loss: 1.233117 [48000/50000]\n",
            "Test Error: \n",
            " Accuracy: 49.9%, Avg loss: 1.428953\n",
            "\n",
            "Epoch: 5\n",
            "--------------------\n",
            "Loss: 0.574598 [    0/50000]\n",
            "Loss: 0.711847 [ 8000/50000]\n",
            "Loss: 1.696779 [16000/50000]\n",
            "Loss: 0.767516 [24000/50000]\n",
            "Loss: 1.760345 [32000/50000]\n",
            "Loss: 0.932577 [40000/50000]\n",
            "Loss: 1.010471 [48000/50000]\n",
            "Test Error: \n",
            " Accuracy: 51.7%, Avg loss: 1.387111\n",
            "\n",
            "Epoch: 6\n",
            "--------------------\n",
            "Loss: 1.257495 [    0/50000]\n",
            "Loss: 0.921933 [ 8000/50000]\n",
            "Loss: 1.962441 [16000/50000]\n",
            "Loss: 1.086036 [24000/50000]\n",
            "Loss: 1.102089 [32000/50000]\n",
            "Loss: 1.349454 [40000/50000]\n",
            "Loss: 1.560942 [48000/50000]\n",
            "Test Error: \n",
            " Accuracy: 52.0%, Avg loss: 1.362069\n",
            "\n",
            "Epoch: 7\n",
            "--------------------\n",
            "Loss: 0.893294 [    0/50000]\n",
            "Loss: 1.595660 [ 8000/50000]\n",
            "Loss: 1.051405 [16000/50000]\n",
            "Loss: 0.592590 [24000/50000]\n",
            "Loss: 1.568086 [32000/50000]\n",
            "Loss: 0.800878 [40000/50000]\n",
            "Loss: 1.493729 [48000/50000]\n",
            "Test Error: \n",
            " Accuracy: 52.9%, Avg loss: 1.337409\n",
            "\n",
            "Epoch: 8\n",
            "--------------------\n",
            "Loss: 1.469613 [    0/50000]\n",
            "Loss: 1.306720 [ 8000/50000]\n",
            "Loss: 0.725852 [16000/50000]\n",
            "Loss: 2.474118 [24000/50000]\n",
            "Loss: 0.988613 [32000/50000]\n",
            "Loss: 0.835968 [40000/50000]\n",
            "Loss: 2.083899 [48000/50000]\n",
            "Test Error: \n",
            " Accuracy: 52.7%, Avg loss: 1.331699\n",
            "\n",
            "Epoch: 9\n",
            "--------------------\n",
            "Loss: 0.547891 [    0/50000]\n",
            "Loss: 0.769786 [ 8000/50000]\n",
            "Loss: 1.859367 [16000/50000]\n",
            "Loss: 1.427029 [24000/50000]\n",
            "Loss: 0.503214 [32000/50000]\n",
            "Loss: 1.704948 [40000/50000]\n",
            "Loss: 1.136135 [48000/50000]\n",
            "Test Error: \n",
            " Accuracy: 53.5%, Avg loss: 1.319383\n",
            "\n",
            "Epoch: 10\n",
            "--------------------\n",
            "Loss: 1.518729 [    0/50000]\n",
            "Loss: 1.242085 [ 8000/50000]\n",
            "Loss: 2.949819 [16000/50000]\n",
            "Loss: 0.956686 [24000/50000]\n",
            "Loss: 1.625626 [32000/50000]\n",
            "Loss: 0.950643 [40000/50000]\n",
            "Loss: 0.647891 [48000/50000]\n",
            "Test Error: \n",
            " Accuracy: 54.3%, Avg loss: 1.303991\n",
            "\n",
            "Done!\n"
          ]
        }
      ],
      "source": [
        "epochs = 10\n",
        "for t in range(epochs):\n",
        "    print(f\"Epoch: {t+1}\\n--------------------\")\n",
        "    train(train_dataloader, model, loss_fn, optimizer)\n",
        "    test(test_dataloader, model, loss_fn)\n",
        "print(\"Done!\")"
      ]
    },
    {
      "cell_type": "markdown",
      "metadata": {
        "id": "2OMkvK8mLMUA"
      },
      "source": [
        "# Сохранение и загрузка модели"
      ]
    },
    {
      "cell_type": "code",
      "execution_count": null,
      "metadata": {
        "id": "Z-A2Tx2zLLx6"
      },
      "outputs": [],
      "source": [
        "torch.save(model.state_dict(), \"cifar_fc.pth\")"
      ]
    },
    {
      "cell_type": "code",
      "execution_count": null,
      "metadata": {
        "colab": {
          "base_uri": "https://localhost:8080/"
        },
        "id": "2QTg1f9zLf6l",
        "outputId": "718f6890-5c45-430c-c6c1-67ea85de8ad6"
      },
      "outputs": [
        {
          "data": {
            "text/plain": [
              "<All keys matched successfully>"
            ]
          },
          "execution_count": 23,
          "metadata": {},
          "output_type": "execute_result"
        }
      ],
      "source": [
        "model = NeuralNetwork()\n",
        "model.load_state_dict(torch.load(\"cifar_fc.pth\"))"
      ]
    },
    {
      "cell_type": "code",
      "execution_count": null,
      "metadata": {
        "colab": {
          "base_uri": "https://localhost:8080/",
          "height": 173
        },
        "id": "KjkZfqf0Io-F",
        "outputId": "aa2badbc-ade8-449e-8fcb-afab3851204b"
      },
      "outputs": [
        {
          "name": "stderr",
          "output_type": "stream",
          "text": [
            "WARNING:matplotlib.image:Clipping input data to the valid range for imshow with RGB data ([0..1] for floats or [0..255] for integers).\n"
          ]
        },
        {
          "data": {
            "image/png": "[encoded data removed]",
            "text/plain": [
              "<Figure size 432x288 with 1 Axes>"
            ]
          },
          "metadata": {
            "needs_background": "light"
          },
          "output_type": "display_data"
        },
        {
          "name": "stdout",
          "output_type": "stream",
          "text": [
            "Ground Truth:  dog   ship  dog   airplane\n"
          ]
        }
      ],
      "source": [
        "dataiter = iter(test_dataloader)\n",
        "images, labels = next(dataiter)\n",
        "imshow(make_grid(images))\n",
        "print(\"Ground Truth: \", \" \".join(f'{classes[labels[j]]:5s}' for j in range(4)))"
      ]
    },
    {
      "cell_type": "code",
      "execution_count": null,
      "metadata": {
        "colab": {
          "base_uri": "https://localhost:8080/"
        },
        "id": "f3s5bLv1Kyb2",
        "outputId": "06dad762-8627-453f-b754-61bd48923938"
      },
      "outputs": [
        {
          "name": "stdout",
          "output_type": "stream",
          "text": [
            "Predicted:  frog  ship  dog   airplane\n"
          ]
        }
      ],
      "source": [
        "outputs = model(images)\n",
        "_, predicted = torch.max(outputs, 1)\n",
        "\n",
        "print('Predicted: ', ' '.join(f'{classes[predicted[j]]:5s}' for j in range(4)))"
      ]
    },
    {
      "cell_type": "code",
      "execution_count": null,
      "metadata": {
        "colab": {
          "base_uri": "https://localhost:8080/"
        },
        "id": "U2J7UqwwMtnF",
        "outputId": "14a34a7f-8a3c-42b4-f7a1-c6d360f22c16"
      },
      "outputs": [
        {
          "name": "stdout",
          "output_type": "stream",
          "text": [
            "Model accuracy: 54 %\n"
          ]
        }
      ],
      "source": [
        "correct, total = 0, 0\n",
        "\n",
        "with torch.no_grad():\n",
        "    for data in test_dataloader:\n",
        "        images, labels = data\n",
        "        outputs = model(images)\n",
        "        _, predicted = torch.max(outputs.data, 1)\n",
        "        total += labels.size(0)\n",
        "        correct += (predicted == labels).sum().item()\n",
        "\n",
        "print(f'Model accuracy: {100 * correct // total} %')"
      ]
    },
    {
      "cell_type": "markdown",
      "metadata": {
        "id": "JnVaN5zkOBPz"
      },
      "source": [
        "## Проверка классификации каждого класса"
      ]
    },
    {
      "cell_type": "code",
      "execution_count": null,
      "metadata": {
        "colab": {
          "base_uri": "https://localhost:8080/"
        },
        "id": "MKgleWMjN96F",
        "outputId": "3865777b-0ae6-458a-f8f3-8b219239430c"
      },
      "outputs": [
        {
          "name": "stdout",
          "output_type": "stream",
          "text": [
            "{'airplane': 0, 'automobile': 0, 'bird': 0, 'cat': 0, 'deer': 0, 'dog': 0, 'frog': 0, 'horse': 0, 'ship': 0, 'truck': 0}\n",
            "Accuracy for class airplane: 58.6%\n",
            "Accuracy for class automobile: 61.6%\n",
            "Accuracy for class bird : 39.4%\n",
            "Accuracy for class cat  : 30.3%\n",
            "Accuracy for class deer : 47.3%\n",
            "Accuracy for class dog  : 45.8%\n",
            "Accuracy for class frog : 64.4%\n",
            "Accuracy for class horse: 65.8%\n",
            "Accuracy for class ship : 74.6%\n",
            "Accuracy for class truck: 55.5%\n"
          ]
        }
      ],
      "source": [
        "correct_pred = {classname: 0 for classname in classes}\n",
        "total_pred = {classname: 0  for classname in classes}\n",
        "\n",
        "with torch.no_grad():\n",
        "    for data in test_dataloader:\n",
        "        images, labels = data\n",
        "        outputs = model(images)\n",
        "        _, predictions = torch.max(outputs, 1)\n",
        "        \n",
        "        for label, prediction in zip(labels, predictions):\n",
        "            if label == prediction:\n",
        "                correct_pred[classes[label]] += 1\n",
        "            total_pred[classes[label]] += 1\n",
        "\n",
        "for classname, correct_count in correct_pred.items():\n",
        "    accuracy = 100 * float(correct_count) / total_pred[classname]\n",
        "    print(f'Accuracy for class {classname:5s}: {accuracy:.1f}%')"
      ]
    }
  ],
  "metadata": {
    "accelerator": "GPU",
    "colab": {
      "provenance": []
    },
    "gpuClass": "standard",
    "kernelspec": {
      "display_name": "Python 3",
      "name": "python3"
    },
    "language_info": {
      "codemirror_mode": {
        "name": "ipython",
        "version": 3
      },
      "file_extension": ".py",
      "mimetype": "text/x-python",
      "name": "python",
      "nbconvert_exporter": "python",
      "pygments_lexer": "ipython3",
      "version": "3.10.9"
    },
    "widgets": {
      "application/vnd.jupyter.widget-state+json": {
        "422a125492d341cbbcf028ea1aab3a94": {
          "model_module": "@jupyter-widgets/controls",
          "model_module_version": "1.5.0",
          "model_name": "FloatProgressModel",
          "state": {
            "_dom_classes": [],
            "_model_module": "@jupyter-widgets/controls",
            "_model_module_version": "1.5.0",
            "_model_name": "FloatProgressModel",
            "_view_count": null,
            "_view_module": "@jupyter-widgets/controls",
            "_view_module_version": "1.5.0",
            "_view_name": "ProgressView",
            "bar_style": "success",
            "description": "",
            "description_tooltip": null,
            "layout": "IPY_MODEL_62ceba9378174b7082c1d3e640a5c1ff",
            "max": 170498071,
            "min": 0,
            "orientation": "horizontal",
            "style": "IPY_MODEL_567d8b028c8343fd928c029974ff435f",
            "value": 170498071
          }
        },
        "49862561d69541ff932cddf547651f41": {
          "model_module": "@jupyter-widgets/base",
          "model_module_version": "1.2.0",
          "model_name": "LayoutModel",
          "state": {
            "_model_module": "@jupyter-widgets/base",
            "_model_module_version": "1.2.0",
            "_model_name": "LayoutModel",
            "_view_count": null,
            "_view_module": "@jupyter-widgets/base",
            "_view_module_version": "1.2.0",
            "_view_name": "LayoutView",
            "align_content": null,
            "align_items": null,
            "align_self": null,
            "border": null,
            "bottom": null,
            "display": null,
            "flex": null,
            "flex_flow": null,
            "grid_area": null,
            "grid_auto_columns": null,
            "grid_auto_flow": null,
            "grid_auto_rows": null,
            "grid_column": null,
            "grid_gap": null,
            "grid_row": null,
            "grid_template_areas": null,
            "grid_template_columns": null,
            "grid_template_rows": null,
            "height": null,
            "justify_content": null,
            "justify_items": null,
            "left": null,
            "margin": null,
            "max_height": null,
            "max_width": null,
            "min_height": null,
            "min_width": null,
            "object_fit": null,
            "object_position": null,
            "order": null,
            "overflow": null,
            "overflow_x": null,
            "overflow_y": null,
            "padding": null,
            "right": null,
            "top": null,
            "visibility": null,
            "width": null
          }
        },
        "50156745f7764411b5bf26222bbb3b71": {
          "model_module": "@jupyter-widgets/controls",
          "model_module_version": "1.5.0",
          "model_name": "DescriptionStyleModel",
          "state": {
            "_model_module": "@jupyter-widgets/controls",
            "_model_module_version": "1.5.0",
            "_model_name": "DescriptionStyleModel",
            "_view_count": null,
            "_view_module": "@jupyter-widgets/base",
            "_view_module_version": "1.2.0",
            "_view_name": "StyleView",
            "description_width": ""
          }
        },
        "567d8b028c8343fd928c029974ff435f": {
          "model_module": "@jupyter-widgets/controls",
          "model_module_version": "1.5.0",
          "model_name": "ProgressStyleModel",
          "state": {
            "_model_module": "@jupyter-widgets/controls",
            "_model_module_version": "1.5.0",
            "_model_name": "ProgressStyleModel",
            "_view_count": null,
            "_view_module": "@jupyter-widgets/base",
            "_view_module_version": "1.2.0",
            "_view_name": "StyleView",
            "bar_color": null,
            "description_width": ""
          }
        },
        "62ceba9378174b7082c1d3e640a5c1ff": {
          "model_module": "@jupyter-widgets/base",
          "model_module_version": "1.2.0",
          "model_name": "LayoutModel",
          "state": {
            "_model_module": "@jupyter-widgets/base",
            "_model_module_version": "1.2.0",
            "_model_name": "LayoutModel",
            "_view_count": null,
            "_view_module": "@jupyter-widgets/base",
            "_view_module_version": "1.2.0",
            "_view_name": "LayoutView",
            "align_content": null,
            "align_items": null,
            "align_self": null,
            "border": null,
            "bottom": null,
            "display": null,
            "flex": null,
            "flex_flow": null,
            "grid_area": null,
            "grid_auto_columns": null,
            "grid_auto_flow": null,
            "grid_auto_rows": null,
            "grid_column": null,
            "grid_gap": null,
            "grid_row": null,
            "grid_template_areas": null,
            "grid_template_columns": null,
            "grid_template_rows": null,
            "height": null,
            "justify_content": null,
            "justify_items": null,
            "left": null,
            "margin": null,
            "max_height": null,
            "max_width": null,
            "min_height": null,
            "min_width": null,
            "object_fit": null,
            "object_position": null,
            "order": null,
            "overflow": null,
            "overflow_x": null,
            "overflow_y": null,
            "padding": null,
            "right": null,
            "top": null,
            "visibility": null,
            "width": null
          }
        },
        "75e9b65def5043f8878094f65230a33c": {
          "model_module": "@jupyter-widgets/controls",
          "model_module_version": "1.5.0",
          "model_name": "HTMLModel",
          "state": {
            "_dom_classes": [],
            "_model_module": "@jupyter-widgets/controls",
            "_model_module_version": "1.5.0",
            "_model_name": "HTMLModel",
            "_view_count": null,
            "_view_module": "@jupyter-widgets/controls",
            "_view_module_version": "1.5.0",
            "_view_name": "HTMLView",
            "description": "",
            "description_tooltip": null,
            "layout": "IPY_MODEL_93e7ce6ac1824b10bf972b6799a967ed",
            "placeholder": "​",
            "style": "IPY_MODEL_50156745f7764411b5bf26222bbb3b71",
            "value": "100%"
          }
        },
        "93e7ce6ac1824b10bf972b6799a967ed": {
          "model_module": "@jupyter-widgets/base",
          "model_module_version": "1.2.0",
          "model_name": "LayoutModel",
          "state": {
            "_model_module": "@jupyter-widgets/base",
            "_model_module_version": "1.2.0",
            "_model_name": "LayoutModel",
            "_view_count": null,
            "_view_module": "@jupyter-widgets/base",
            "_view_module_version": "1.2.0",
            "_view_name": "LayoutView",
            "align_content": null,
            "align_items": null,
            "align_self": null,
            "border": null,
            "bottom": null,
            "display": null,
            "flex": null,
            "flex_flow": null,
            "grid_area": null,
            "grid_auto_columns": null,
            "grid_auto_flow": null,
            "grid_auto_rows": null,
            "grid_column": null,
            "grid_gap": null,
            "grid_row": null,
            "grid_template_areas": null,
            "grid_template_columns": null,
            "grid_template_rows": null,
            "height": null,
            "justify_content": null,
            "justify_items": null,
            "left": null,
            "margin": null,
            "max_height": null,
            "max_width": null,
            "min_height": null,
            "min_width": null,
            "object_fit": null,
            "object_position": null,
            "order": null,
            "overflow": null,
            "overflow_x": null,
            "overflow_y": null,
            "padding": null,
            "right": null,
            "top": null,
            "visibility": null,
            "width": null
          }
        },
        "aae52a92be194118bc475f9805639029": {
          "model_module": "@jupyter-widgets/controls",
          "model_module_version": "1.5.0",
          "model_name": "HBoxModel",
          "state": {
            "_dom_classes": [],
            "_model_module": "@jupyter-widgets/controls",
            "_model_module_version": "1.5.0",
            "_model_name": "HBoxModel",
            "_view_count": null,
            "_view_module": "@jupyter-widgets/controls",
            "_view_module_version": "1.5.0",
            "_view_name": "HBoxView",
            "box_style": "",
            "children": [
              "IPY_MODEL_75e9b65def5043f8878094f65230a33c",
              "IPY_MODEL_422a125492d341cbbcf028ea1aab3a94",
              "IPY_MODEL_c040016ec490457683ae705b6063bbd0"
            ],
            "layout": "IPY_MODEL_49862561d69541ff932cddf547651f41"
          }
        },
        "c040016ec490457683ae705b6063bbd0": {
          "model_module": "@jupyter-widgets/controls",
          "model_module_version": "1.5.0",
          "model_name": "HTMLModel",
          "state": {
            "_dom_classes": [],
            "_model_module": "@jupyter-widgets/controls",
            "_model_module_version": "1.5.0",
            "_model_name": "HTMLModel",
            "_view_count": null,
            "_view_module": "@jupyter-widgets/controls",
            "_view_module_version": "1.5.0",
            "_view_name": "HTMLView",
            "description": "",
            "description_tooltip": null,
            "layout": "IPY_MODEL_e39940e338eb4f96bb828db9a312fb0d",
            "placeholder": "​",
            "style": "IPY_MODEL_c7f35781f9ed4fdb9c3d158a8ce8c4b7",
            "value": " 170498071/170498071 [00:13&lt;00:00, 14783273.92it/s]"
          }
        },
        "c7f35781f9ed4fdb9c3d158a8ce8c4b7": {
          "model_module": "@jupyter-widgets/controls",
          "model_module_version": "1.5.0",
          "model_name": "DescriptionStyleModel",
          "state": {
            "_model_module": "@jupyter-widgets/controls",
            "_model_module_version": "1.5.0",
            "_model_name": "DescriptionStyleModel",
            "_view_count": null,
            "_view_module": "@jupyter-widgets/base",
            "_view_module_version": "1.2.0",
            "_view_name": "StyleView",
            "description_width": ""
          }
        },
        "e39940e338eb4f96bb828db9a312fb0d": {
          "model_module": "@jupyter-widgets/base",
          "model_module_version": "1.2.0",
          "model_name": "LayoutModel",
          "state": {
            "_model_module": "@jupyter-widgets/base",
            "_model_module_version": "1.2.0",
            "_model_name": "LayoutModel",
            "_view_count": null,
            "_view_module": "@jupyter-widgets/base",
            "_view_module_version": "1.2.0",
            "_view_name": "LayoutView",
            "align_content": null,
            "align_items": null,
            "align_self": null,
            "border": null,
            "bottom": null,
            "display": null,
            "flex": null,
            "flex_flow": null,
            "grid_area": null,
            "grid_auto_columns": null,
            "grid_auto_flow": null,
            "grid_auto_rows": null,
            "grid_column": null,
            "grid_gap": null,
            "grid_row": null,
            "grid_template_areas": null,
            "grid_template_columns": null,
            "grid_template_rows": null,
            "height": null,
            "justify_content": null,
            "justify_items": null,
            "left": null,
            "margin": null,
            "max_height": null,
            "max_width": null,
            "min_height": null,
            "min_width": null,
            "object_fit": null,
            "object_position": null,
            "order": null,
            "overflow": null,
            "overflow_x": null,
            "overflow_y": null,
            "padding": null,
            "right": null,
            "top": null,
            "visibility": null,
            "width": null
          }
        }
      }
    }
  },
  "nbformat": 4,
  "nbformat_minor": 0
}
