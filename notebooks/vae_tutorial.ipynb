{
  "cells": [
    {
      "cell_type": "code",
      "execution_count": 1,
      "metadata": {},
      "outputs": [
        {
          "data": {
            "text/html": [
              "\n",
              "                <script type=\"application/javascript\" id=\"jupyter_black\">\n",
              "                (function() {\n",
              "                    if (window.IPython === undefined) {\n",
              "                        return\n",
              "                    }\n",
              "                    var msg = \"WARNING: it looks like you might have loaded \" +\n",
              "                        \"jupyter_black in a non-lab notebook with \" +\n",
              "                        \"`is_lab=True`. Please double check, and if \" +\n",
              "                        \"loading with `%load_ext` please review the README!\"\n",
              "                    console.log(msg)\n",
              "                    alert(msg)\n",
              "                })()\n",
              "                </script>\n",
              "                "
            ],
            "text/plain": [
              "<IPython.core.display.HTML object>"
            ]
          },
          "metadata": {},
          "output_type": "display_data"
        }
      ],
      "source": [
        "import jupyter_black\n",
        "\n",
        "import os\n",
        "import random\n",
        "import numpy as np\n",
        "import matplotlib.pyplot as plt\n",
        "\n",
        "jupyter_black.load()"
      ]
    },
    {
      "cell_type": "code",
      "execution_count": 2,
      "metadata": {
        "id": "HadqYCZe8NLm"
      },
      "outputs": [],
      "source": [
        "import torch\n",
        "import torch.nn as nn\n",
        "import torchvision.transforms as transforms\n",
        "from torchvision.datasets import mnist\n",
        "from torch.utils.data import DataLoader"
      ]
    },
    {
      "attachments": {},
      "cell_type": "markdown",
      "metadata": {},
      "source": [
        "## Settings"
      ]
    },
    {
      "cell_type": "code",
      "execution_count": 3,
      "metadata": {
        "colab": {
          "base_uri": "https://localhost:8080/"
        },
        "id": "-fQ0El1qKSFu",
        "outputId": "f94e58bc-e846-4fc9-bc1f-046b2d6dc47d"
      },
      "outputs": [
        {
          "name": "stdout",
          "output_type": "stream",
          "text": [
            "DEVICE: cpu\n"
          ]
        }
      ],
      "source": [
        "# Settings\n",
        "plt.rcParams[\"image.cmap\"] = \"gray\"\n",
        "\n",
        "device = torch.device(\"cuda:0\" if torch.cuda.is_available() else \"cpu\")\n",
        "print(\"DEVICE:\", device)\n",
        "\n",
        "# Hyperparameters\n",
        "RANDOM_SEED = 123\n",
        "LEARNING_RATE = 0.0005\n",
        "BATCH_SIZE = 256\n",
        "NUM_EPOCHS = 100"
      ]
    },
    {
      "cell_type": "code",
      "execution_count": 4,
      "metadata": {
        "id": "hRwoAiePlAj7"
      },
      "outputs": [],
      "source": [
        "def set_all_seeds(seed):\n",
        "    os.environ[\"PL_GLOBAL_SEED\"] = str(seed)\n",
        "    random.seed(seed)\n",
        "    np.random.seed(seed)\n",
        "    torch.manual_seed(seed)\n",
        "    torch.cuda.manual_seed_all(seed)"
      ]
    },
    {
      "cell_type": "markdown",
      "metadata": {
        "id": "Zv51WnU_jcSK"
      },
      "source": [
        "## Dataset"
      ]
    },
    {
      "cell_type": "code",
      "execution_count": 5,
      "metadata": {
        "id": "yr1fiUIyAUWI"
      },
      "outputs": [],
      "source": [
        "transform = transforms.Compose([transforms.ToTensor()])"
      ]
    },
    {
      "cell_type": "code",
      "execution_count": 6,
      "metadata": {
        "id": "_gJ-dwUqBcmk"
      },
      "outputs": [],
      "source": [
        "train_dataset = mnist.MNIST(\n",
        "    \"mnist-images\", train=True, transform=transform, download=True\n",
        ")\n",
        "test_dataset = mnist.MNIST(\n",
        "    \"mnist-images\", train=False, transform=transform, download=True\n",
        ")"
      ]
    },
    {
      "cell_type": "code",
      "execution_count": 7,
      "metadata": {
        "id": "ece-dDcgI_DK"
      },
      "outputs": [],
      "source": [
        "train_loader = DataLoader(train_dataset, batch_size=BATCH_SIZE, shuffle=True)\n",
        "test_loader = DataLoader(test_dataset, batch_size=BATCH_SIZE, shuffle=True)"
      ]
    },
    {
      "cell_type": "code",
      "execution_count": 8,
      "metadata": {
        "colab": {
          "base_uri": "https://localhost:8080/"
        },
        "id": "yKBbxUx3i__5",
        "outputId": "3c1778d8-b54a-42cb-dc6a-a04fea63e99b"
      },
      "outputs": [
        {
          "name": "stdout",
          "output_type": "stream",
          "text": [
            "Training Set:\n",
            "Image batch dimensions: torch.Size([256, 1, 28, 28])\n",
            "Image label dimensions: torch.Size([256])\n",
            "tensor([6, 6, 4, 1, 5, 4, 2, 3, 3, 2])\n",
            "\n",
            "Testing Set:\n",
            "Image batch dimensions: torch.Size([256, 1, 28, 28])\n",
            "Image label dimensions: torch.Size([256])\n",
            "tensor([6, 7, 6, 4, 3, 5, 8, 2, 0, 4])\n"
          ]
        }
      ],
      "source": [
        "# Checking the dataset\n",
        "print(\"Training Set:\")\n",
        "for images, labels in train_loader:\n",
        "    print(\"Image batch dimensions:\", images.size())\n",
        "    print(\"Image label dimensions:\", labels.size())\n",
        "    print(labels[:10])\n",
        "    break\n",
        "\n",
        "# Checking the dataset\n",
        "print(\"\\nTesting Set:\")\n",
        "for images, labels in test_loader:\n",
        "    print(\"Image batch dimensions:\", images.size())\n",
        "    print(\"Image label dimensions:\", labels.size())\n",
        "    print(labels[:10])\n",
        "    break"
      ]
    },
    {
      "cell_type": "markdown",
      "metadata": {
        "id": "sx8zWvODjTfM"
      },
      "source": [
        "## Model"
      ]
    },
    {
      "cell_type": "code",
      "execution_count": 9,
      "metadata": {
        "id": "uJyBpxyqjjIR"
      },
      "outputs": [],
      "source": [
        "class Reshape(nn.Module):\n",
        "    def __init__(self, *args):\n",
        "        super().__init__()\n",
        "        self.shape = args\n",
        "\n",
        "    def forward(self, x):\n",
        "        return x.view(self.shape)\n",
        "\n",
        "\n",
        "class Trim(nn.Module):\n",
        "    def __init__(self, *args):\n",
        "        super().__init__()\n",
        "\n",
        "    def forward(self, x):\n",
        "        return x[:, :, :28, :28]\n",
        "\n",
        "\n",
        "class VAE(nn.Module):\n",
        "    def __init__(self):\n",
        "        super().__init__()\n",
        "\n",
        "        # self.encoder = nn.Sequential(\n",
        "        #     nn.Conv2d(1, 32, stride=(1, 1), kernel_size=(3, 3), padding=1),\n",
        "        #     nn.LeakyReLU(0.01),\n",
        "        #     nn.Conv2d(32, 64, stride=(2, 2), kernel_size=(3, 3), padding=1),\n",
        "        #     nn.LeakyReLU(0.01),\n",
        "        #     nn.Conv2d(64, 64, stride=(2, 2), kernel_size=(3, 3), padding=1),\n",
        "        #     nn.LeakyReLU(0.01),\n",
        "        #     nn.Conv2d(64, 64, stride=(1, 1), kernel_size=(3, 3), padding=1),\n",
        "        #     nn.Flatten()\n",
        "        # )\n",
        "\n",
        "        self.encoder = nn.Sequential(\n",
        "            nn.Flatten(),\n",
        "            nn.Linear(784, 256),\n",
        "            nn.LeakyReLU(0.01),\n",
        "            nn.Linear(256, 128),\n",
        "            nn.LeakyReLU(0.01),\n",
        "        )\n",
        "\n",
        "        # self.z_mean = torch.nn.Linear(3136, 2)\n",
        "        # self.z_log_var = torch.nn.Linear(3136, 2)\n",
        "\n",
        "        self.z_mean = torch.nn.Linear(128, 2)\n",
        "        self.z_log_var = torch.nn.Linear(128, 2)\n",
        "\n",
        "        # self.decoder = nn.Sequential(\n",
        "        #     torch.nn.Linear(2, 3136),\n",
        "        #     Reshape(-1, 64, 7, 7),\n",
        "        #     nn.ConvTranspose2d(64, 64, stride=(1, 1), kernel_size=(3, 3), padding=1),\n",
        "        #     nn.LeakyReLU(0.01),\n",
        "        #     nn.ConvTranspose2d(64, 64, stride=(2, 2), kernel_size=(3, 3), padding=1),\n",
        "        #     nn.LeakyReLU(0.01),\n",
        "        #     nn.ConvTranspose2d(64, 32, stride=(2, 2), kernel_size=(3, 3), padding=0),\n",
        "        #     nn.LeakyReLU(0.01),\n",
        "        #     nn.ConvTranspose2d(32, 1, stride=(1, 1), kernel_size=(3, 3), padding=0),\n",
        "        #     Trim(),  # 1x29x29 -> 1x28x28\n",
        "        #     nn.Sigmoid()\n",
        "        # )\n",
        "\n",
        "        self.decoder = nn.Sequential(\n",
        "            nn.Linear(2, 128),\n",
        "            nn.LeakyReLU(0.01),\n",
        "            nn.Linear(128, 256),\n",
        "            nn.LeakyReLU(0.01),\n",
        "            nn.Linear(256, 784),\n",
        "            Reshape(-1, 1, 28, 28),\n",
        "            nn.Sigmoid(),\n",
        "        )\n",
        "\n",
        "    def encoding_fn(self, x):\n",
        "        x = self.encoder(x)\n",
        "        z_mean, z_log_var = self.z_mean(x), self.z_log_var(x)\n",
        "        encoded = self.reparameterize(z_mean, z_log_var)\n",
        "        return encoded\n",
        "\n",
        "    def reparameterize(self, z_mu, z_log_var):\n",
        "        eps = torch.randn(z_mu.size(0), z_mu.size(1)).to(device)\n",
        "        # eps = torch.randn(z_mu.size(0), z_mu.size(1)).to(z_mu.get_device())\n",
        "        z = z_mu + eps * torch.exp(z_log_var / 2.0)\n",
        "        return z\n",
        "\n",
        "    def forward(self, x):\n",
        "        x = self.encoder(x)\n",
        "        z_mean, z_log_var = self.z_mean(x), self.z_log_var(x)\n",
        "        encoded = self.reparameterize(z_mean, z_log_var)\n",
        "        decoded = self.decoder(encoded)\n",
        "        return encoded, z_mean, z_log_var, decoded"
      ]
    },
    {
      "cell_type": "code",
      "execution_count": 10,
      "metadata": {
        "colab": {
          "base_uri": "https://localhost:8080/"
        },
        "id": "B7-O3YwTlH03",
        "outputId": "d7c1dec0-1553-4e42-d5d2-dd34fa36ddfc"
      },
      "outputs": [
        {
          "name": "stdout",
          "output_type": "stream",
          "text": [
            "VAE(\n",
            "  (encoder): Sequential(\n",
            "    (0): Flatten(start_dim=1, end_dim=-1)\n",
            "    (1): Linear(in_features=784, out_features=256, bias=True)\n",
            "    (2): LeakyReLU(negative_slope=0.01)\n",
            "    (3): Linear(in_features=256, out_features=128, bias=True)\n",
            "    (4): LeakyReLU(negative_slope=0.01)\n",
            "  )\n",
            "  (z_mean): Linear(in_features=128, out_features=2, bias=True)\n",
            "  (z_log_var): Linear(in_features=128, out_features=2, bias=True)\n",
            "  (decoder): Sequential(\n",
            "    (0): Linear(in_features=2, out_features=128, bias=True)\n",
            "    (1): LeakyReLU(negative_slope=0.01)\n",
            "    (2): Linear(in_features=128, out_features=256, bias=True)\n",
            "    (3): LeakyReLU(negative_slope=0.01)\n",
            "    (4): Linear(in_features=256, out_features=784, bias=True)\n",
            "    (5): Reshape()\n",
            "    (6): Sigmoid()\n",
            "  )\n",
            ")\n"
          ]
        }
      ],
      "source": [
        "set_all_seeds(RANDOM_SEED)\n",
        "\n",
        "model = VAE()\n",
        "model.to(device)\n",
        "print(model)\n",
        "\n",
        "optimizer = torch.optim.Adam(model.parameters(), lr=LEARNING_RATE)"
      ]
    },
    {
      "cell_type": "code",
      "execution_count": 11,
      "metadata": {
        "colab": {
          "base_uri": "https://localhost:8080/"
        },
        "id": "ULk4qoRPlbOF",
        "outputId": "3ff96693-8812-478b-e91c-0fd6ce0ca924"
      },
      "outputs": [
        {
          "name": "stdout",
          "output_type": "stream",
          "text": [
            "torch.Size([256, 1, 28, 28])\n",
            "torch.Size([256, 128])\n",
            "torch.Size([256, 2]) torch.Size([256, 2])\n",
            "torch.Size([256, 2])\n",
            "torch.Size([256, 1, 28, 28])\n"
          ]
        }
      ],
      "source": [
        "with torch.no_grad():\n",
        "    for image, _ in train_loader:\n",
        "        print(image.shape)\n",
        "        wtf = model.encoder(image.to(device))\n",
        "        print(wtf.shape)\n",
        "\n",
        "        z_mean, z_log_var = model.z_mean(wtf), model.z_log_var(wtf)\n",
        "        encoded = model.reparameterize(z_mean, z_log_var)\n",
        "        print(z_mean.shape, z_log_var.shape)\n",
        "        print(encoded.shape)\n",
        "\n",
        "        decoded_wtf = model.decoder(encoded)\n",
        "        print(decoded_wtf.shape)\n",
        "        break"
      ]
    },
    {
      "cell_type": "markdown",
      "metadata": {
        "id": "Qeh2Yz1wsvvI"
      },
      "source": [
        "## Train"
      ]
    },
    {
      "cell_type": "code",
      "execution_count": 13,
      "metadata": {
        "colab": {
          "base_uri": "https://localhost:8080/"
        },
        "id": "1BzPYfl3sxs4",
        "outputId": "dd7e4c4e-a109-43a3-8e5e-faf17967de54"
      },
      "outputs": [
        {
          "name": "stdout",
          "output_type": "stream",
          "text": [
            "Epoch: 001/010 | Batch 0000/0235 | Loss: 182.3505\n",
            "Epoch: 001/010 | Batch 0050/0235 | Loss: 56.1701\n",
            "Epoch: 001/010 | Batch 0100/0235 | Loss: 52.9421\n",
            "Epoch: 001/010 | Batch 0150/0235 | Loss: 50.8128\n",
            "Epoch: 001/010 | Batch 0200/0235 | Loss: 49.1047\n",
            "Time elapsed: 0.12 min\n",
            "Epoch: 002/010 | Batch 0000/0235 | Loss: 47.4354\n",
            "Epoch: 002/010 | Batch 0050/0235 | Loss: 47.3934\n",
            "Epoch: 002/010 | Batch 0100/0235 | Loss: 47.2383\n",
            "Epoch: 002/010 | Batch 0150/0235 | Loss: 45.2402\n",
            "Epoch: 002/010 | Batch 0200/0235 | Loss: 43.5164\n",
            "Time elapsed: 0.23 min\n",
            "Epoch: 003/010 | Batch 0000/0235 | Loss: 44.3550\n",
            "Epoch: 003/010 | Batch 0050/0235 | Loss: 43.9427\n",
            "Epoch: 003/010 | Batch 0100/0235 | Loss: 42.4891\n",
            "Epoch: 003/010 | Batch 0150/0235 | Loss: 44.3795\n",
            "Epoch: 003/010 | Batch 0200/0235 | Loss: 43.1501\n",
            "Time elapsed: 0.35 min\n",
            "Epoch: 004/010 | Batch 0000/0235 | Loss: 43.1777\n",
            "Epoch: 004/010 | Batch 0050/0235 | Loss: 42.3710\n",
            "Epoch: 004/010 | Batch 0100/0235 | Loss: 43.1394\n",
            "Epoch: 004/010 | Batch 0150/0235 | Loss: 42.9219\n",
            "Epoch: 004/010 | Batch 0200/0235 | Loss: 41.4349\n",
            "Time elapsed: 0.46 min\n",
            "Epoch: 005/010 | Batch 0000/0235 | Loss: 42.0181\n",
            "Epoch: 005/010 | Batch 0050/0235 | Loss: 43.0886\n",
            "Epoch: 005/010 | Batch 0100/0235 | Loss: 41.4803\n",
            "Epoch: 005/010 | Batch 0150/0235 | Loss: 42.2497\n",
            "Epoch: 005/010 | Batch 0200/0235 | Loss: 42.2176\n",
            "Time elapsed: 0.58 min\n",
            "Epoch: 006/010 | Batch 0000/0235 | Loss: 42.6436\n",
            "Epoch: 006/010 | Batch 0050/0235 | Loss: 42.3934\n",
            "Epoch: 006/010 | Batch 0100/0235 | Loss: 42.3611\n",
            "Epoch: 006/010 | Batch 0150/0235 | Loss: 42.5492\n",
            "Epoch: 006/010 | Batch 0200/0235 | Loss: 38.4799\n",
            "Time elapsed: 0.69 min\n",
            "Epoch: 007/010 | Batch 0000/0235 | Loss: 39.5134\n",
            "Epoch: 007/010 | Batch 0050/0235 | Loss: 40.3666\n",
            "Epoch: 007/010 | Batch 0100/0235 | Loss: 41.9281\n",
            "Epoch: 007/010 | Batch 0150/0235 | Loss: 40.2111\n",
            "Epoch: 007/010 | Batch 0200/0235 | Loss: 39.2352\n",
            "Time elapsed: 0.80 min\n",
            "Epoch: 008/010 | Batch 0000/0235 | Loss: 39.9628\n",
            "Epoch: 008/010 | Batch 0050/0235 | Loss: 40.4035\n",
            "Epoch: 008/010 | Batch 0100/0235 | Loss: 40.4501\n",
            "Epoch: 008/010 | Batch 0150/0235 | Loss: 39.6086\n",
            "Epoch: 008/010 | Batch 0200/0235 | Loss: 39.7978\n",
            "Time elapsed: 0.92 min\n",
            "Epoch: 009/010 | Batch 0000/0235 | Loss: 40.1062\n",
            "Epoch: 009/010 | Batch 0050/0235 | Loss: 39.5699\n",
            "Epoch: 009/010 | Batch 0100/0235 | Loss: 40.5109\n",
            "Epoch: 009/010 | Batch 0150/0235 | Loss: 39.4670\n",
            "Epoch: 009/010 | Batch 0200/0235 | Loss: 38.3863\n",
            "Time elapsed: 1.03 min\n",
            "Epoch: 010/010 | Batch 0000/0235 | Loss: 37.4205\n",
            "Epoch: 010/010 | Batch 0050/0235 | Loss: 38.1680\n",
            "Epoch: 010/010 | Batch 0100/0235 | Loss: 38.5377\n",
            "Epoch: 010/010 | Batch 0150/0235 | Loss: 40.2208\n",
            "Epoch: 010/010 | Batch 0200/0235 | Loss: 39.3416\n",
            "Time elapsed: 1.15 min\n",
            "Total Training Time: 1.15 min\n"
          ]
        }
      ],
      "source": [
        "import time\n",
        "\n",
        "log_dict = {\n",
        "    \"train_combined_loss_per_batch\": [],\n",
        "    \"train_combined_loss_per_epoch\": [],\n",
        "    \"train_reconstruction_loss_per_batch\": [],\n",
        "    \"train_kl_loss_per_batch\": [],\n",
        "}\n",
        "\n",
        "loss_fn = nn.functional.mse_loss\n",
        "\n",
        "reconstruction_term_weight = 1\n",
        "logging_interval = 50\n",
        "\n",
        "start_time = time.time()\n",
        "for epoch in range(NUM_EPOCHS):\n",
        "    model.train()\n",
        "\n",
        "    for batch_idx, (features, _) in enumerate(train_loader):\n",
        "        features = features.to(device)\n",
        "\n",
        "        # forward and backprop\n",
        "        encoded, z_mean, z_log_var, decoded = model(features)\n",
        "\n",
        "        # total loss = reconstruction loss + KL divergence\n",
        "        # kl_divergence = (0.5 * (z_mean**2 +\n",
        "        #                        torch.exp(z_log_var) - z_log_var - 1)).sum()\n",
        "\n",
        "        kl_div = -0.5 * torch.sum(\n",
        "            1 + z_log_var - z_mean**2 - torch.exp(z_log_var), axis=1\n",
        "        )  # sum over latent dimension\n",
        "\n",
        "        batchsize = kl_div.size(0)\n",
        "        kl_div = kl_div.mean()  # average over batch dimension\n",
        "\n",
        "        pixelwise = loss_fn(decoded, features, reduction=\"none\")\n",
        "        pixelwise = pixelwise.view(batchsize, -1).sum(axis=1)  # sum over pixels\n",
        "        pixelwise = pixelwise.mean()  # average over batch dimension\n",
        "\n",
        "        loss = reconstruction_term_weight * pixelwise + kl_div\n",
        "\n",
        "        optimizer.zero_grad()\n",
        "\n",
        "        loss.backward()\n",
        "\n",
        "        # UPDATE MODEL PARAMETERS\n",
        "        optimizer.step()\n",
        "\n",
        "        # LOGGING\n",
        "        log_dict[\"train_combined_loss_per_batch\"].append(loss.item())\n",
        "        log_dict[\"train_reconstruction_loss_per_batch\"].append(pixelwise.item())\n",
        "        log_dict[\"train_kl_loss_per_batch\"].append(kl_div.item())\n",
        "\n",
        "        if not batch_idx % logging_interval:\n",
        "            print(\n",
        "                \"Epoch: %03d/%03d | Batch %04d/%04d | Loss: %.4f\"\n",
        "                % (epoch + 1, NUM_EPOCHS, batch_idx, len(train_loader), loss)\n",
        "            )\n",
        "\n",
        "    print(\"Time elapsed: %.2f min\" % ((time.time() - start_time) / 60))\n",
        "\n",
        "print(\"Total Training Time: %.2f min\" % ((time.time() - start_time) / 60))"
      ]
    },
    {
      "cell_type": "code",
      "execution_count": 14,
      "metadata": {
        "colab": {
          "base_uri": "https://localhost:8080/",
          "height": 187
        },
        "id": "gPtaJkKA0BQY",
        "outputId": "5e8b7963-69a9-4485-a85e-dc42778bc0bb"
      },
      "outputs": [
        {
          "data": {
            "image/png": "[encoded data removed]",
            "text/plain": [
              "<Figure size 2000x250 with 30 Axes>"
            ]
          },
          "metadata": {},
          "output_type": "display_data"
        }
      ],
      "source": [
        "n_images = 15\n",
        "\n",
        "fig, axes = plt.subplots(2, n_images, sharex=True, sharey=True, figsize=(20, 2.5))\n",
        "\n",
        "features, _ = next(iter(train_loader))\n",
        "features = features.to(device)\n",
        "color_channels = features.shape[1]\n",
        "image_height = features.shape[2]\n",
        "image_width = features.shape[3]\n",
        "\n",
        "with torch.no_grad():\n",
        "    encoded, z_mean, z_log_var, decoded_images = model(features)[:n_images]\n",
        "orig_images = features[:n_images]\n",
        "\n",
        "for i in range(n_images):\n",
        "    for ax, img in zip(axes, [orig_images, decoded_images]):\n",
        "        curr_img = img[i].detach().to(torch.device(\"cpu\"))\n",
        "        if color_channels > 1:\n",
        "            curr_img = np.transpose(curr_img, (1, 2, 0))\n",
        "            ax[i].imshow(curr_img)\n",
        "        else:\n",
        "            ax[i].imshow(curr_img.view((image_height, image_width)), cmap=\"binary\")"
      ]
    },
    {
      "cell_type": "code",
      "execution_count": null,
      "metadata": {
        "id": "5aZzysHSByai"
      },
      "outputs": [],
      "source": [
        "input_size = 28 * 28\n",
        "num_digits = 10\n",
        "\n",
        "params = {\n",
        "    'encoder_layers': [128],\n",
        "    'decoder_layers': [128],\n",
        "    'z_dim': 10,\n",
        "    'batch_size': 100,\n",
        "    'epochs': 20\n",
        "}"
      ]
    },
    {
      "cell_type": "code",
      "execution_count": null,
      "metadata": {
        "id": "6p8Vq7AGLWzT"
      },
      "outputs": [],
      "source": [
        "class encoder(nn.Module):\n",
        "    def __init__(self):\n",
        "        super(encoder, self).__init__()\n",
        "\n",
        "        self.linear_sigmoid = nn.Sequential(\n",
        "            nn.Linear(input_size, 128),\n",
        "            nn.Sigmoid(),\n",
        "            nn.Linear(128, params['z_dim'])\n",
        "        )\n",
        "\n",
        "    def forward(self, x):\n",
        "        mu = self.linear_sigmoid(x)\n",
        "        var = 1e-5 + torch.exp(mu)\n",
        "        return mu, var\n",
        "\n",
        "class decoder(nn.Module):\n",
        "    def __init__(self):\n",
        "        super(decoder, self).__init__()\n",
        "        self.linear_sigmoid = nn.Sequential(\n",
        "            nn.Linear(20, 128),\n",
        "            nn.Sigmoid(),\n",
        "            nn.Linear(128, input_size),\n",
        "            nn.Sigmoid()\n",
        "        )\n",
        "    \n",
        "    def forward(self, x):\n",
        "        mu = self.linear_sigmoid(x)\n",
        "        return mu\n",
        "\n",
        "class digit_classifier(nn.Module):\n",
        "    def __init__(self):\n",
        "        super(digit_classifier, self).__init__()\n",
        "        self.main = nn.Sequential(\n",
        "            nn.Linear(input_size, 128),\n",
        "            nn.Sigmoid(),\n",
        "            nn.Linear(128, num_digits)\n",
        "        )\n",
        "    \n",
        "    def forward(self, x):\n",
        "        logits = self.main(x)\n",
        "        return logits"
      ]
    },
    {
      "cell_type": "code",
      "execution_count": null,
      "metadata": {
        "id": "5bOMHSzfKiCv"
      },
      "outputs": [],
      "source": [
        "image = next(iter(train_loader))[:5]"
      ]
    },
    {
      "cell_type": "code",
      "execution_count": null,
      "metadata": {
        "colab": {
          "base_uri": "https://localhost:8080/"
        },
        "id": "sQMjWRdbYWgf",
        "outputId": "d88debbf-bc96-40c9-dba8-f5d87cef85d6"
      },
      "outputs": [
        {
          "data": {
            "text/plain": [
              "torch.Size([5, 1, 28, 28])"
            ]
          },
          "execution_count": 42,
          "metadata": {},
          "output_type": "execute_result"
        }
      ],
      "source": [
        "images = image[0][:5]\n",
        "images.shape"
      ]
    },
    {
      "cell_type": "code",
      "execution_count": null,
      "metadata": {
        "colab": {
          "base_uri": "https://localhost:8080/",
          "height": 1000
        },
        "id": "Dwfltt3qNx6S",
        "outputId": "1e1b8ca8-917b-4237-f8f9-6b324fc5da64"
      },
      "outputs": [
        {
          "data": {
            "image/png": "[encoded data removed]",
            "text/plain": [
              "<Figure size 432x288 with 1 Axes>"
            ]
          },
          "metadata": {
            "needs_background": "light"
          },
          "output_type": "display_data"
        },
        {
          "data": {
            "image/png": "[encoded data removed]",
            "text/plain": [
              "<Figure size 432x288 with 1 Axes>"
            ]
          },
          "metadata": {
            "needs_background": "light"
          },
          "output_type": "display_data"
        },
        {
          "data": {
            "image/png": "[encoded data removed]",
            "text/plain": [
              "<Figure size 432x288 with 1 Axes>"
            ]
          },
          "metadata": {
            "needs_background": "light"
          },
          "output_type": "display_data"
        },
        {
          "data": {
            "image/png": "[encoded data removed]",
            "text/plain": [
              "<Figure size 432x288 with 1 Axes>"
            ]
          },
          "metadata": {
            "needs_background": "light"
          },
          "output_type": "display_data"
        },
        {
          "data": {
            "image/png": "[encoded data removed]",
            "text/plain": [
              "<Figure size 432x288 with 1 Axes>"
            ]
          },
          "metadata": {
            "needs_background": "light"
          },
          "output_type": "display_data"
        }
      ],
      "source": [
        "for image in images:\n",
        "    plt.imshow(image.numpy().reshape(28, 28))\n",
        "    plt.show()"
      ]
    },
    {
      "cell_type": "code",
      "execution_count": null,
      "metadata": {
        "colab": {
          "base_uri": "https://localhost:8080/"
        },
        "id": "HsCacQWYN5kC",
        "outputId": "db62189a-3a2b-4cee-dbd3-b5dc10152201"
      },
      "outputs": [
        {
          "name": "stdout",
          "output_type": "stream",
          "text": [
            "encoder(\n",
            "  (linear_sigmoid): Sequential(\n",
            "    (0): Linear(in_features=784, out_features=128, bias=True)\n",
            "    (1): Sigmoid()\n",
            "    (2): Linear(in_features=128, out_features=10, bias=True)\n",
            "  )\n",
            ")\n",
            "decoder(\n",
            "  (linear_sigmoid): Sequential(\n",
            "    (0): Linear(in_features=20, out_features=128, bias=True)\n",
            "    (1): Sigmoid()\n",
            "    (2): Linear(in_features=128, out_features=784, bias=True)\n",
            "    (3): Sigmoid()\n",
            "  )\n",
            ")\n",
            "digit_classifier(\n",
            "  (main): Sequential(\n",
            "    (0): Linear(in_features=784, out_features=128, bias=True)\n",
            "    (1): Sigmoid()\n",
            "    (2): Linear(in_features=128, out_features=10, bias=True)\n",
            "  )\n",
            ")\n"
          ]
        }
      ],
      "source": [
        "E = encoder()\n",
        "D = decoder()\n",
        "D_cls = digit_classifier()\n",
        "print(E)\n",
        "print(D)\n",
        "print(D_cls)"
      ]
    },
    {
      "cell_type": "code",
      "execution_count": null,
      "metadata": {
        "colab": {
          "base_uri": "https://localhost:8080/"
        },
        "id": "ed5Dsb_VOENB",
        "outputId": "7c72eaba-de03-42a4-8d2e-3d4674219d37"
      },
      "outputs": [
        {
          "name": "stderr",
          "output_type": "stream",
          "text": [
            "<ipython-input-68-b00d97c5c544>:7: UserWarning: Implicit dimension choice for softmax has been deprecated. Change the call to include dim=X as an argument.\n",
            "  digit_prob = nn.functional.softmax(input=digit_logits)\n"
          ]
        }
      ],
      "source": [
        "encoder_mu, encoder_var = E(images.view(-1, 28*28))\n",
        "\n",
        "eps = torch.normal(mean=0.0, std=1.0, size=(images.shape[0], params['z_dim']))\n",
        "z = encoder_mu + torch.sqrt(encoder_var) * eps\n",
        "\n",
        "digit_logits = D_cls(images.view(-1, 28*28))\n",
        "digit_prob = nn.functional.softmax(input=digit_logits)"
      ]
    },
    {
      "cell_type": "code",
      "execution_count": null,
      "metadata": {
        "colab": {
          "base_uri": "https://localhost:8080/",
          "height": 146
        },
        "id": "24j6KPwlb1RH",
        "outputId": "a2765f5a-337c-48a8-ff3c-6fa3e3e63eef"
      },
      "outputs": [
        {
          "data": {
            "image/png": "[encoded data removed]",
            "text/plain": [
              "<Figure size 720x360 with 5 Axes>"
            ]
          },
          "metadata": {
            "needs_background": "light"
          },
          "output_type": "display_data"
        }
      ],
      "source": [
        "decoded_images = D(torch.cat((z, digit_prob), dim=1))\n",
        "plt.subplots(1, len(decoded_images), figsize=(10, 5))\n",
        "for idx, image in enumerate(decoded_images):\n",
        "    ax = plt.subplot(1, len(decoded_images), idx+1)\n",
        "    ax.imshow(image.detach().numpy().reshape(28, 28))\n",
        "plt.show()"
      ]
    }
  ],
  "metadata": {
    "accelerator": "GPU",
    "colab": {
      "provenance": []
    },
    "gpuClass": "standard",
    "kernelspec": {
      "display_name": "Python 3",
      "name": "python3"
    },
    "language_info": {
      "codemirror_mode": {
        "name": "ipython",
        "version": 3
      },
      "file_extension": ".py",
      "mimetype": "text/x-python",
      "name": "python",
      "nbconvert_exporter": "python",
      "pygments_lexer": "ipython3",
      "version": "3.10.9"
    }
  },
  "nbformat": 4,
  "nbformat_minor": 0
}
