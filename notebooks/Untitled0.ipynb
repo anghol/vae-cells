{
  "nbformat": 4,
  "nbformat_minor": 0,
  "metadata": {
    "colab": {
      "provenance": []
    },
    "kernelspec": {
      "name": "python3",
      "display_name": "Python 3"
    },
    "language_info": {
      "name": "python"
    },
    "accelerator": "GPU",
    "gpuClass": "standard"
  },
  "cells": [
    {
      "cell_type": "code",
      "execution_count": null,
      "metadata": {
        "id": "HadqYCZe8NLm"
      },
      "outputs": [],
      "source": [
        "import torch\n",
        "import torch.nn as nn\n",
        "import torchvision.transforms as transforms\n",
        "from torchvision.datasets import mnist\n",
        "from torch.utils.data import DataLoader\n",
        "\n",
        "import os\n",
        "import random\n",
        "import numpy as np\n",
        "from matplotlib import pyplot as plt"
      ]
    },
    {
      "cell_type": "code",
      "source": [
        "# Settings\n",
        "plt.rcParams['image.cmap'] = 'gray'\n",
        "\n",
        "device = torch.device('cuda:0' if torch.cuda.is_available() else 'cpu')\n",
        "print('DEVICE:', device)\n",
        "\n",
        "# Hyperparameters\n",
        "RANDOM_SEED = 123\n",
        "LEARNING_RATE = 0.0005\n",
        "BATCH_SIZE = 256\n",
        "NUM_EPOCHS = 20"
      ],
      "metadata": {
        "id": "-fQ0El1qKSFu",
        "colab": {
          "base_uri": "https://localhost:8080/"
        },
        "outputId": "f94e58bc-e846-4fc9-bc1f-046b2d6dc47d"
      },
      "execution_count": null,
      "outputs": [
        {
          "output_type": "stream",
          "name": "stdout",
          "text": [
            "DEVICE: cuda:0\n"
          ]
        }
      ]
    },
    {
      "cell_type": "code",
      "source": [
        "def set_all_seeds(seed):\n",
        "    os.environ[\"PL_GLOBAL_SEED\"] = str(seed)\n",
        "    random.seed(seed)\n",
        "    np.random.seed(seed)\n",
        "    torch.manual_seed(seed)\n",
        "    torch.cuda.manual_seed_all(seed)"
      ],
      "metadata": {
        "id": "hRwoAiePlAj7"
      },
      "execution_count": null,
      "outputs": []
    },
    {
      "cell_type": "markdown",
      "source": [
        "## Dataset"
      ],
      "metadata": {
        "id": "Zv51WnU_jcSK"
      }
    },
    {
      "cell_type": "code",
      "source": [
        "transform = transforms.Compose([\n",
        "    transforms.ToTensor(),\n",
        "    # transforms.Normalize((0.5), (0.5))\n",
        "]) "
      ],
      "metadata": {
        "id": "yr1fiUIyAUWI"
      },
      "execution_count": null,
      "outputs": []
    },
    {
      "cell_type": "code",
      "source": [
        "train_dataset = mnist.MNIST('mnist-images', train=True, transform=transform, download=True)\n",
        "test_dataset = mnist.MNIST('mnist-images', train=False, transform=transform, download=True)"
      ],
      "metadata": {
        "id": "_gJ-dwUqBcmk"
      },
      "execution_count": null,
      "outputs": []
    },
    {
      "cell_type": "code",
      "source": [
        "train_loader = DataLoader(train_dataset, batch_size=BATCH_SIZE, shuffle=True)\n",
        "test_loader = DataLoader(test_dataset, batch_size=BATCH_SIZE, shuffle=True)"
      ],
      "metadata": {
        "id": "ece-dDcgI_DK"
      },
      "execution_count": null,
      "outputs": []
    },
    {
      "cell_type": "code",
      "source": [
        "# Checking the dataset\n",
        "print('Training Set:')\n",
        "for images, labels in train_loader:  \n",
        "    print('Image batch dimensions:', images.size())\n",
        "    print('Image label dimensions:', labels.size())\n",
        "    print(labels[:10])\n",
        "    break\n",
        "\n",
        "# Checking the dataset\n",
        "print('\\nTesting Set:')\n",
        "for images, labels in test_loader:  \n",
        "    print('Image batch dimensions:', images.size())\n",
        "    print('Image label dimensions:', labels.size())\n",
        "    print(labels[:10])\n",
        "    break"
      ],
      "metadata": {
        "colab": {
          "base_uri": "https://localhost:8080/"
        },
        "id": "yKBbxUx3i__5",
        "outputId": "3c1778d8-b54a-42cb-dc6a-a04fea63e99b"
      },
      "execution_count": null,
      "outputs": [
        {
          "output_type": "stream",
          "name": "stdout",
          "text": [
            "Training Set:\n",
            "Image batch dimensions: torch.Size([256, 1, 28, 28])\n",
            "Image label dimensions: torch.Size([256])\n",
            "tensor([7, 2, 3, 0, 0, 6, 0, 1, 1, 2])\n",
            "\n",
            "Testing Set:\n",
            "Image batch dimensions: torch.Size([256, 1, 28, 28])\n",
            "Image label dimensions: torch.Size([256])\n",
            "tensor([2, 3, 6, 8, 3, 5, 3, 7, 5, 1])\n"
          ]
        }
      ]
    },
    {
      "cell_type": "markdown",
      "source": [
        "## Model"
      ],
      "metadata": {
        "id": "sx8zWvODjTfM"
      }
    },
    {
      "cell_type": "code",
      "source": [
        "class Reshape(nn.Module):\n",
        "    def __init__(self, *args):\n",
        "        super().__init__()\n",
        "        self.shape = args\n",
        "\n",
        "    def forward(self, x):\n",
        "        return x.view(self.shape)\n",
        "\n",
        "class Trim(nn.Module):\n",
        "    def __init__(self, *args):\n",
        "        super().__init__()\n",
        "\n",
        "    def forward(self, x):\n",
        "        return x[:, :, :28, :28]\n",
        "\n",
        "class VAE(nn.Module):\n",
        "    def __init__(self):\n",
        "        super().__init__()\n",
        "\n",
        "        # self.encoder = nn.Sequential(\n",
        "        #     nn.Conv2d(1, 32, stride=(1, 1), kernel_size=(3, 3), padding=1),\n",
        "        #     nn.LeakyReLU(0.01),\n",
        "        #     nn.Conv2d(32, 64, stride=(2, 2), kernel_size=(3, 3), padding=1),\n",
        "        #     nn.LeakyReLU(0.01),\n",
        "        #     nn.Conv2d(64, 64, stride=(2, 2), kernel_size=(3, 3), padding=1),\n",
        "        #     nn.LeakyReLU(0.01),\n",
        "        #     nn.Conv2d(64, 64, stride=(1, 1), kernel_size=(3, 3), padding=1),\n",
        "        #     nn.Flatten()\n",
        "        # )\n",
        "\n",
        "        self.encoder = nn.Sequential(\n",
        "            nn.Flatten(),\n",
        "            nn.Linear(784, 256),\n",
        "            nn.LeakyReLU(0.01),\n",
        "            nn.Linear(256, 128),\n",
        "            nn.LeakyReLU(0.01)\n",
        "        )\n",
        "\n",
        "        # self.z_mean = torch.nn.Linear(3136, 2)\n",
        "        # self.z_log_var = torch.nn.Linear(3136, 2)\n",
        "\n",
        "        self.z_mean = torch.nn.Linear(128, 2)\n",
        "        self.z_log_var = torch.nn.Linear(128, 2)\n",
        "\n",
        "        # self.decoder = nn.Sequential(\n",
        "        #     torch.nn.Linear(2, 3136),\n",
        "        #     Reshape(-1, 64, 7, 7),\n",
        "        #     nn.ConvTranspose2d(64, 64, stride=(1, 1), kernel_size=(3, 3), padding=1),\n",
        "        #     nn.LeakyReLU(0.01),\n",
        "        #     nn.ConvTranspose2d(64, 64, stride=(2, 2), kernel_size=(3, 3), padding=1),                \n",
        "        #     nn.LeakyReLU(0.01),\n",
        "        #     nn.ConvTranspose2d(64, 32, stride=(2, 2), kernel_size=(3, 3), padding=0),                \n",
        "        #     nn.LeakyReLU(0.01),\n",
        "        #     nn.ConvTranspose2d(32, 1, stride=(1, 1), kernel_size=(3, 3), padding=0), \n",
        "        #     Trim(),  # 1x29x29 -> 1x28x28\n",
        "        #     nn.Sigmoid()\n",
        "        # )\n",
        "\n",
        "        self.decoder = nn.Sequential(\n",
        "            nn.Linear(2, 128),\n",
        "            nn.LeakyReLU(0.01),\n",
        "            nn.Linear(128, 256),\n",
        "            nn.LeakyReLU(0.01),\n",
        "            nn.Linear(256, 784),\n",
        "            Reshape(-1, 1, 28, 28),\n",
        "            nn.Sigmoid()\n",
        "        )\n",
        "    \n",
        "    def encoding_fn(self, x):\n",
        "        x = self.encoder(x)\n",
        "        z_mean, z_log_var = self.z_mean(x), self.z_log_var(x)\n",
        "        encoded = self.reparameterize(z_mean, z_log_var)\n",
        "        return encoded\n",
        "    \n",
        "    def reparameterize(self, z_mu, z_log_var):\n",
        "        eps = torch.randn(z_mu.size(0), z_mu.size(1)).to(z_mu.get_device())\n",
        "        z = z_mu + eps * torch.exp(z_log_var/2.0) \n",
        "        return z\n",
        "\n",
        "    def forward(self, x):\n",
        "        x = self.encoder(x)\n",
        "        z_mean, z_log_var = self.z_mean(x), self.z_log_var(x)\n",
        "        encoded = self.reparameterize(z_mean, z_log_var)\n",
        "        decoded = self.decoder(encoded)\n",
        "        return encoded, z_mean, z_log_var, decoded"
      ],
      "metadata": {
        "id": "uJyBpxyqjjIR"
      },
      "execution_count": null,
      "outputs": []
    },
    {
      "cell_type": "code",
      "source": [
        "set_all_seeds(RANDOM_SEED)\n",
        "\n",
        "model = VAE()\n",
        "model.to(device)\n",
        "print(model)\n",
        "\n",
        "optimizer = torch.optim.Adam(model.parameters(), lr=LEARNING_RATE)  "
      ],
      "metadata": {
        "colab": {
          "base_uri": "https://localhost:8080/"
        },
        "id": "B7-O3YwTlH03",
        "outputId": "d7c1dec0-1553-4e42-d5d2-dd34fa36ddfc"
      },
      "execution_count": null,
      "outputs": [
        {
          "output_type": "stream",
          "name": "stdout",
          "text": [
            "VAE(\n",
            "  (encoder): Sequential(\n",
            "    (0): Flatten(start_dim=1, end_dim=-1)\n",
            "    (1): Linear(in_features=784, out_features=256, bias=True)\n",
            "    (2): LeakyReLU(negative_slope=0.01)\n",
            "    (3): Linear(in_features=256, out_features=128, bias=True)\n",
            "    (4): LeakyReLU(negative_slope=0.01)\n",
            "  )\n",
            "  (z_mean): Linear(in_features=128, out_features=2, bias=True)\n",
            "  (z_log_var): Linear(in_features=128, out_features=2, bias=True)\n",
            "  (decoder): Sequential(\n",
            "    (0): Linear(in_features=2, out_features=128, bias=True)\n",
            "    (1): LeakyReLU(negative_slope=0.01)\n",
            "    (2): Linear(in_features=128, out_features=256, bias=True)\n",
            "    (3): LeakyReLU(negative_slope=0.01)\n",
            "    (4): Linear(in_features=256, out_features=784, bias=True)\n",
            "    (5): Reshape()\n",
            "    (6): Sigmoid()\n",
            "  )\n",
            ")\n"
          ]
        }
      ]
    },
    {
      "cell_type": "code",
      "source": [
        "with torch.no_grad():\n",
        "    for image, _ in train_loader:\n",
        "        print(image.shape)\n",
        "        wtf = model.encoder(image.to(device))\n",
        "        print(wtf.shape)\n",
        "\n",
        "        z_mean, z_log_var = model.z_mean(wtf), model.z_log_var(wtf)\n",
        "        encoded = model.reparameterize(z_mean, z_log_var)\n",
        "        print(z_mean.shape, z_log_var.shape)\n",
        "        print(encoded.shape)\n",
        "\n",
        "        decoded_wtf = model.decoder(encoded)\n",
        "        print(decoded_wtf.shape)\n",
        "        break"
      ],
      "metadata": {
        "colab": {
          "base_uri": "https://localhost:8080/"
        },
        "id": "ULk4qoRPlbOF",
        "outputId": "3ff96693-8812-478b-e91c-0fd6ce0ca924"
      },
      "execution_count": null,
      "outputs": [
        {
          "output_type": "stream",
          "name": "stdout",
          "text": [
            "torch.Size([256, 1, 28, 28])\n",
            "torch.Size([256, 128])\n",
            "torch.Size([256, 2]) torch.Size([256, 2])\n",
            "torch.Size([256, 2])\n",
            "torch.Size([256, 1, 28, 28])\n"
          ]
        }
      ]
    },
    {
      "cell_type": "markdown",
      "source": [
        "## Train"
      ],
      "metadata": {
        "id": "Qeh2Yz1wsvvI"
      }
    },
    {
      "cell_type": "code",
      "source": [
        "import time\n",
        "\n",
        "log_dict = {'train_combined_loss_per_batch': [],\n",
        "            'train_combined_loss_per_epoch': [],\n",
        "            'train_reconstruction_loss_per_batch': [],\n",
        "            'train_kl_loss_per_batch': []}\n",
        "\n",
        "loss_fn = nn.functional.mse_loss\n",
        "\n",
        "reconstruction_term_weight = 1\n",
        "logging_interval = 50\n",
        "\n",
        "start_time = time.time()\n",
        "for epoch in range(NUM_EPOCHS):\n",
        "\n",
        "    model.train()\n",
        "\n",
        "    for batch_idx, (features, _) in enumerate(train_loader):\n",
        "        features = features.to(device)\n",
        "\n",
        "        # forward and backprop\n",
        "        encoded, z_mean, z_log_var, decoded = model(features)\n",
        "\n",
        "        # total loss = reconstruction loss + KL divergence\n",
        "        # kl_divergence = (0.5 * (z_mean**2 + \n",
        "        #                        torch.exp(z_log_var) - z_log_var - 1)).sum()\n",
        "\n",
        "        kl_div = -0.5 * torch.sum(1 + z_log_var \n",
        "                                    - z_mean**2 \n",
        "                                    - torch.exp(z_log_var), \n",
        "                                    axis=1) # sum over latent dimension\n",
        "\n",
        "        batchsize = kl_div.size(0)\n",
        "        kl_div = kl_div.mean() # average over batch dimension\n",
        "\n",
        "        pixelwise = loss_fn(decoded, features, reduction='none')\n",
        "        pixelwise = pixelwise.view(batchsize, -1).sum(axis=1) # sum over pixels\n",
        "        pixelwise = pixelwise.mean() # average over batch dimension\n",
        "        \n",
        "        loss = reconstruction_term_weight * pixelwise + kl_div\n",
        "        \n",
        "        optimizer.zero_grad()\n",
        "\n",
        "        loss.backward()\n",
        "\n",
        "        # UPDATE MODEL PARAMETERS\n",
        "        optimizer.step()\n",
        "\n",
        "        # LOGGING\n",
        "        log_dict['train_combined_loss_per_batch'].append(loss.item())\n",
        "        log_dict['train_reconstruction_loss_per_batch'].append(pixelwise.item())\n",
        "        log_dict['train_kl_loss_per_batch'].append(kl_div.item())\n",
        "\n",
        "        if not batch_idx % logging_interval:\n",
        "            print('Epoch: %03d/%03d | Batch %04d/%04d | Loss: %.4f'\n",
        "                    % (epoch+1, NUM_EPOCHS, batch_idx,\n",
        "                        len(train_loader), loss))\n",
        "\n",
        "    print('Time elapsed: %.2f min' % ((time.time() - start_time)/60))\n",
        "\n",
        "print('Total Training Time: %.2f min' % ((time.time() - start_time)/60))"
      ],
      "metadata": {
        "colab": {
          "base_uri": "https://localhost:8080/"
        },
        "id": "1BzPYfl3sxs4",
        "outputId": "dd7e4c4e-a109-43a3-8e5e-faf17967de54"
      },
      "execution_count": null,
      "outputs": [
        {
          "output_type": "stream",
          "name": "stdout",
          "text": [
            "Epoch: 001/020 | Batch 0000/0235 | Loss: 41.7464\n",
            "Epoch: 001/020 | Batch 0050/0235 | Loss: 41.6361\n",
            "Epoch: 001/020 | Batch 0100/0235 | Loss: 41.2131\n",
            "Epoch: 001/020 | Batch 0150/0235 | Loss: 41.5610\n",
            "Epoch: 001/020 | Batch 0200/0235 | Loss: 42.0645\n",
            "Time elapsed: 0.14 min\n",
            "Epoch: 002/020 | Batch 0000/0235 | Loss: 41.4405\n",
            "Epoch: 002/020 | Batch 0050/0235 | Loss: 41.6027\n",
            "Epoch: 002/020 | Batch 0100/0235 | Loss: 40.4850\n",
            "Epoch: 002/020 | Batch 0150/0235 | Loss: 39.2709\n",
            "Epoch: 002/020 | Batch 0200/0235 | Loss: 42.4256\n",
            "Time elapsed: 0.28 min\n",
            "Epoch: 003/020 | Batch 0000/0235 | Loss: 39.9450\n",
            "Epoch: 003/020 | Batch 0050/0235 | Loss: 39.6645\n",
            "Epoch: 003/020 | Batch 0100/0235 | Loss: 40.9046\n",
            "Epoch: 003/020 | Batch 0150/0235 | Loss: 40.3436\n",
            "Epoch: 003/020 | Batch 0200/0235 | Loss: 40.6802\n",
            "Time elapsed: 0.43 min\n",
            "Epoch: 004/020 | Batch 0000/0235 | Loss: 39.1141\n",
            "Epoch: 004/020 | Batch 0050/0235 | Loss: 39.9611\n",
            "Epoch: 004/020 | Batch 0100/0235 | Loss: 38.8270\n",
            "Epoch: 004/020 | Batch 0150/0235 | Loss: 38.6172\n",
            "Epoch: 004/020 | Batch 0200/0235 | Loss: 39.7193\n",
            "Time elapsed: 0.57 min\n",
            "Epoch: 005/020 | Batch 0000/0235 | Loss: 38.3285\n",
            "Epoch: 005/020 | Batch 0050/0235 | Loss: 38.7981\n",
            "Epoch: 005/020 | Batch 0100/0235 | Loss: 37.8601\n",
            "Epoch: 005/020 | Batch 0150/0235 | Loss: 38.6449\n",
            "Epoch: 005/020 | Batch 0200/0235 | Loss: 39.5323\n",
            "Time elapsed: 0.72 min\n",
            "Epoch: 006/020 | Batch 0000/0235 | Loss: 39.0683\n",
            "Epoch: 006/020 | Batch 0050/0235 | Loss: 39.0357\n",
            "Epoch: 006/020 | Batch 0100/0235 | Loss: 38.6495\n",
            "Epoch: 006/020 | Batch 0150/0235 | Loss: 39.5665\n",
            "Epoch: 006/020 | Batch 0200/0235 | Loss: 39.2295\n",
            "Time elapsed: 0.86 min\n",
            "Epoch: 007/020 | Batch 0000/0235 | Loss: 40.2919\n",
            "Epoch: 007/020 | Batch 0050/0235 | Loss: 39.7869\n",
            "Epoch: 007/020 | Batch 0100/0235 | Loss: 37.7870\n",
            "Epoch: 007/020 | Batch 0150/0235 | Loss: 39.1440\n",
            "Epoch: 007/020 | Batch 0200/0235 | Loss: 39.5766\n",
            "Time elapsed: 1.01 min\n",
            "Epoch: 008/020 | Batch 0000/0235 | Loss: 38.2204\n",
            "Epoch: 008/020 | Batch 0050/0235 | Loss: 38.3859\n",
            "Epoch: 008/020 | Batch 0100/0235 | Loss: 38.9801\n",
            "Epoch: 008/020 | Batch 0150/0235 | Loss: 39.0931\n",
            "Epoch: 008/020 | Batch 0200/0235 | Loss: 39.8197\n",
            "Time elapsed: 1.15 min\n",
            "Epoch: 009/020 | Batch 0000/0235 | Loss: 36.8053\n",
            "Epoch: 009/020 | Batch 0050/0235 | Loss: 36.4557\n",
            "Epoch: 009/020 | Batch 0100/0235 | Loss: 37.4353\n",
            "Epoch: 009/020 | Batch 0150/0235 | Loss: 37.8152\n",
            "Epoch: 009/020 | Batch 0200/0235 | Loss: 38.1620\n",
            "Time elapsed: 1.30 min\n",
            "Epoch: 010/020 | Batch 0000/0235 | Loss: 37.2861\n",
            "Epoch: 010/020 | Batch 0050/0235 | Loss: 37.1037\n",
            "Epoch: 010/020 | Batch 0100/0235 | Loss: 37.0141\n",
            "Epoch: 010/020 | Batch 0150/0235 | Loss: 36.1045\n",
            "Epoch: 010/020 | Batch 0200/0235 | Loss: 37.5850\n",
            "Time elapsed: 1.45 min\n",
            "Epoch: 011/020 | Batch 0000/0235 | Loss: 36.0704\n",
            "Epoch: 011/020 | Batch 0050/0235 | Loss: 37.6046\n",
            "Epoch: 011/020 | Batch 0100/0235 | Loss: 36.7642\n",
            "Epoch: 011/020 | Batch 0150/0235 | Loss: 37.4917\n",
            "Epoch: 011/020 | Batch 0200/0235 | Loss: 36.4434\n",
            "Time elapsed: 1.58 min\n",
            "Epoch: 012/020 | Batch 0000/0235 | Loss: 36.4870\n",
            "Epoch: 012/020 | Batch 0050/0235 | Loss: 37.6237\n",
            "Epoch: 012/020 | Batch 0100/0235 | Loss: 38.9257\n",
            "Epoch: 012/020 | Batch 0150/0235 | Loss: 38.4331\n",
            "Epoch: 012/020 | Batch 0200/0235 | Loss: 35.7108\n",
            "Time elapsed: 1.73 min\n",
            "Epoch: 013/020 | Batch 0000/0235 | Loss: 36.6617\n",
            "Epoch: 013/020 | Batch 0050/0235 | Loss: 39.8443\n",
            "Epoch: 013/020 | Batch 0100/0235 | Loss: 35.9050\n",
            "Epoch: 013/020 | Batch 0150/0235 | Loss: 36.6560\n",
            "Epoch: 013/020 | Batch 0200/0235 | Loss: 36.3130\n",
            "Time elapsed: 1.88 min\n",
            "Epoch: 014/020 | Batch 0000/0235 | Loss: 37.4084\n",
            "Epoch: 014/020 | Batch 0050/0235 | Loss: 36.9977\n",
            "Epoch: 014/020 | Batch 0100/0235 | Loss: 35.9261\n",
            "Epoch: 014/020 | Batch 0150/0235 | Loss: 34.6032\n",
            "Epoch: 014/020 | Batch 0200/0235 | Loss: 38.0219\n",
            "Time elapsed: 2.02 min\n",
            "Epoch: 015/020 | Batch 0000/0235 | Loss: 37.4058\n",
            "Epoch: 015/020 | Batch 0050/0235 | Loss: 37.8723\n",
            "Epoch: 015/020 | Batch 0100/0235 | Loss: 36.6798\n",
            "Epoch: 015/020 | Batch 0150/0235 | Loss: 35.7761\n",
            "Epoch: 015/020 | Batch 0200/0235 | Loss: 36.0610\n",
            "Time elapsed: 2.17 min\n",
            "Epoch: 016/020 | Batch 0000/0235 | Loss: 36.9687\n",
            "Epoch: 016/020 | Batch 0050/0235 | Loss: 37.0238\n",
            "Epoch: 016/020 | Batch 0100/0235 | Loss: 36.2814\n",
            "Epoch: 016/020 | Batch 0150/0235 | Loss: 36.4330\n",
            "Epoch: 016/020 | Batch 0200/0235 | Loss: 37.1113\n",
            "Time elapsed: 2.31 min\n",
            "Epoch: 017/020 | Batch 0000/0235 | Loss: 37.1252\n",
            "Epoch: 017/020 | Batch 0050/0235 | Loss: 37.1852\n",
            "Epoch: 017/020 | Batch 0100/0235 | Loss: 35.6860\n",
            "Epoch: 017/020 | Batch 0150/0235 | Loss: 35.0785\n",
            "Epoch: 017/020 | Batch 0200/0235 | Loss: 36.7846\n",
            "Time elapsed: 2.46 min\n",
            "Epoch: 018/020 | Batch 0000/0235 | Loss: 36.2337\n",
            "Epoch: 018/020 | Batch 0050/0235 | Loss: 34.7275\n",
            "Epoch: 018/020 | Batch 0100/0235 | Loss: 37.5919\n",
            "Epoch: 018/020 | Batch 0150/0235 | Loss: 36.2642\n",
            "Epoch: 018/020 | Batch 0200/0235 | Loss: 35.3683\n",
            "Time elapsed: 2.60 min\n",
            "Epoch: 019/020 | Batch 0000/0235 | Loss: 35.8855\n",
            "Epoch: 019/020 | Batch 0050/0235 | Loss: 36.8764\n",
            "Epoch: 019/020 | Batch 0100/0235 | Loss: 36.8567\n",
            "Epoch: 019/020 | Batch 0150/0235 | Loss: 34.8236\n",
            "Epoch: 019/020 | Batch 0200/0235 | Loss: 35.7739\n",
            "Time elapsed: 2.75 min\n",
            "Epoch: 020/020 | Batch 0000/0235 | Loss: 35.8230\n",
            "Epoch: 020/020 | Batch 0050/0235 | Loss: 36.3429\n",
            "Epoch: 020/020 | Batch 0100/0235 | Loss: 35.6687\n",
            "Epoch: 020/020 | Batch 0150/0235 | Loss: 34.9710\n",
            "Epoch: 020/020 | Batch 0200/0235 | Loss: 37.2903\n",
            "Time elapsed: 2.89 min\n",
            "Total Training Time: 2.89 min\n"
          ]
        }
      ]
    },
    {
      "cell_type": "code",
      "source": [
        "n_images = 15\n",
        "\n",
        "fig, axes = plt.subplots(2, n_images, sharex=True, sharey=True, figsize=(20, 2.5))\n",
        "\n",
        "features, _ = next(iter(train_loader))\n",
        "features = features.to(device)\n",
        "color_channels = features.shape[1]\n",
        "image_height = features.shape[2]\n",
        "image_width = features.shape[3]\n",
        "\n",
        "with torch.no_grad():\n",
        "    encoded, z_mean, z_log_var, decoded_images = model(features)[:n_images]\n",
        "orig_images = features[:n_images]\n",
        "\n",
        "for i in range(n_images):\n",
        "    for ax, img in zip(axes, [orig_images, decoded_images]):\n",
        "        curr_img = img[i].detach().to(torch.device('cpu'))\n",
        "        if color_channels > 1:\n",
        "            curr_img = np.transpose(curr_img, (1, 2, 0))\n",
        "            ax[i].imshow(curr_img)\n",
        "        else:\n",
        "            ax[i].imshow(curr_img.view((image_height, image_width)), cmap='binary')     "
      ],
      "metadata": {
        "colab": {
          "base_uri": "https://localhost:8080/",
          "height": 187
        },
        "id": "gPtaJkKA0BQY",
        "outputId": "5e8b7963-69a9-4485-a85e-dc42778bc0bb"
      },
      "execution_count": null,
      "outputs": [
        {
          "output_type": "display_data",
          "data": {
            "text/plain": [
              "<Figure size 1440x180 with 30 Axes>"
            ],
            "image/png": "[encoded data removed]"
          },
          "metadata": {
            "needs_background": "light"
          }
        }
      ]
    },
    {
      "cell_type": "code",
      "source": [
        "input_size = 28 * 28\n",
        "num_digits = 10\n",
        "\n",
        "params = {\n",
        "    'encoder_layers': [128],\n",
        "    'decoder_layers': [128],\n",
        "    'z_dim': 10,\n",
        "    'batch_size': 100,\n",
        "    'epochs': 20\n",
        "}"
      ],
      "metadata": {
        "id": "5aZzysHSByai"
      },
      "execution_count": null,
      "outputs": []
    },
    {
      "cell_type": "code",
      "source": [
        "class encoder(nn.Module):\n",
        "    def __init__(self):\n",
        "        super(encoder, self).__init__()\n",
        "\n",
        "        self.linear_sigmoid = nn.Sequential(\n",
        "            nn.Linear(input_size, 128),\n",
        "            nn.Sigmoid(),\n",
        "            nn.Linear(128, params['z_dim'])\n",
        "        )\n",
        "\n",
        "    def forward(self, x):\n",
        "        mu = self.linear_sigmoid(x)\n",
        "        var = 1e-5 + torch.exp(mu)\n",
        "        return mu, var\n",
        "\n",
        "class decoder(nn.Module):\n",
        "    def __init__(self):\n",
        "        super(decoder, self).__init__()\n",
        "        self.linear_sigmoid = nn.Sequential(\n",
        "            nn.Linear(20, 128),\n",
        "            nn.Sigmoid(),\n",
        "            nn.Linear(128, input_size),\n",
        "            nn.Sigmoid()\n",
        "        )\n",
        "    \n",
        "    def forward(self, x):\n",
        "        mu = self.linear_sigmoid(x)\n",
        "        return mu\n",
        "\n",
        "class digit_classifier(nn.Module):\n",
        "    def __init__(self):\n",
        "        super(digit_classifier, self).__init__()\n",
        "        self.main = nn.Sequential(\n",
        "            nn.Linear(input_size, 128),\n",
        "            nn.Sigmoid(),\n",
        "            nn.Linear(128, num_digits)\n",
        "        )\n",
        "    \n",
        "    def forward(self, x):\n",
        "        logits = self.main(x)\n",
        "        return logits"
      ],
      "metadata": {
        "id": "6p8Vq7AGLWzT"
      },
      "execution_count": null,
      "outputs": []
    },
    {
      "cell_type": "code",
      "source": [
        "image = next(iter(train_loader))[:5]"
      ],
      "metadata": {
        "id": "5bOMHSzfKiCv"
      },
      "execution_count": null,
      "outputs": []
    },
    {
      "cell_type": "code",
      "source": [
        "images = image[0][:5]\n",
        "images.shape"
      ],
      "metadata": {
        "colab": {
          "base_uri": "https://localhost:8080/"
        },
        "id": "sQMjWRdbYWgf",
        "outputId": "d88debbf-bc96-40c9-dba8-f5d87cef85d6"
      },
      "execution_count": null,
      "outputs": [
        {
          "output_type": "execute_result",
          "data": {
            "text/plain": [
              "torch.Size([5, 1, 28, 28])"
            ]
          },
          "metadata": {},
          "execution_count": 42
        }
      ]
    },
    {
      "cell_type": "code",
      "source": [
        "for image in images:\n",
        "    plt.imshow(image.numpy().reshape(28, 28))\n",
        "    plt.show()"
      ],
      "metadata": {
        "colab": {
          "base_uri": "https://localhost:8080/",
          "height": 1000
        },
        "id": "Dwfltt3qNx6S",
        "outputId": "1e1b8ca8-917b-4237-f8f9-6b324fc5da64"
      },
      "execution_count": null,
      "outputs": [
        {
          "output_type": "display_data",
          "data": {
            "text/plain": [
              "<Figure size 432x288 with 1 Axes>"
            ],
            "image/png": "[encoded data removed]"
          },
          "metadata": {
            "needs_background": "light"
          }
        },
        {
          "output_type": "display_data",
          "data": {
            "text/plain": [
              "<Figure size 432x288 with 1 Axes>"
            ],
            "image/png": "[encoded data removed]"
          },
          "metadata": {
            "needs_background": "light"
          }
        },
        {
          "output_type": "display_data",
          "data": {
            "text/plain": [
              "<Figure size 432x288 with 1 Axes>"
            ],
            "image/png": "[encoded data removed]"
          },
          "metadata": {
            "needs_background": "light"
          }
        },
        {
          "output_type": "display_data",
          "data": {
            "text/plain": [
              "<Figure size 432x288 with 1 Axes>"
            ],
            "image/png": "[encoded data removed]"
          },
          "metadata": {
            "needs_background": "light"
          }
        },
        {
          "output_type": "display_data",
          "data": {
            "text/plain": [
              "<Figure size 432x288 with 1 Axes>"
            ],
            "image/png": "[encoded data removed]"
          },
          "metadata": {
            "needs_background": "light"
          }
        }
      ]
    },
    {
      "cell_type": "code",
      "source": [
        "E = encoder()\n",
        "D = decoder()\n",
        "D_cls = digit_classifier()\n",
        "print(E)\n",
        "print(D)\n",
        "print(D_cls)"
      ],
      "metadata": {
        "colab": {
          "base_uri": "https://localhost:8080/"
        },
        "id": "HsCacQWYN5kC",
        "outputId": "db62189a-3a2b-4cee-dbd3-b5dc10152201"
      },
      "execution_count": null,
      "outputs": [
        {
          "output_type": "stream",
          "name": "stdout",
          "text": [
            "encoder(\n",
            "  (linear_sigmoid): Sequential(\n",
            "    (0): Linear(in_features=784, out_features=128, bias=True)\n",
            "    (1): Sigmoid()\n",
            "    (2): Linear(in_features=128, out_features=10, bias=True)\n",
            "  )\n",
            ")\n",
            "decoder(\n",
            "  (linear_sigmoid): Sequential(\n",
            "    (0): Linear(in_features=20, out_features=128, bias=True)\n",
            "    (1): Sigmoid()\n",
            "    (2): Linear(in_features=128, out_features=784, bias=True)\n",
            "    (3): Sigmoid()\n",
            "  )\n",
            ")\n",
            "digit_classifier(\n",
            "  (main): Sequential(\n",
            "    (0): Linear(in_features=784, out_features=128, bias=True)\n",
            "    (1): Sigmoid()\n",
            "    (2): Linear(in_features=128, out_features=10, bias=True)\n",
            "  )\n",
            ")\n"
          ]
        }
      ]
    },
    {
      "cell_type": "code",
      "source": [
        "encoder_mu, encoder_var = E(images.view(-1, 28*28))\n",
        "\n",
        "eps = torch.normal(mean=0.0, std=1.0, size=(images.shape[0], params['z_dim']))\n",
        "z = encoder_mu + torch.sqrt(encoder_var) * eps\n",
        "\n",
        "digit_logits = D_cls(images.view(-1, 28*28))\n",
        "digit_prob = nn.functional.softmax(input=digit_logits)"
      ],
      "metadata": {
        "colab": {
          "base_uri": "https://localhost:8080/"
        },
        "id": "ed5Dsb_VOENB",
        "outputId": "7c72eaba-de03-42a4-8d2e-3d4674219d37"
      },
      "execution_count": null,
      "outputs": [
        {
          "output_type": "stream",
          "name": "stderr",
          "text": [
            "<ipython-input-68-b00d97c5c544>:7: UserWarning: Implicit dimension choice for softmax has been deprecated. Change the call to include dim=X as an argument.\n",
            "  digit_prob = nn.functional.softmax(input=digit_logits)\n"
          ]
        }
      ]
    },
    {
      "cell_type": "code",
      "source": [
        "decoded_images = D(torch.cat((z, digit_prob), dim=1))\n",
        "plt.subplots(1, len(decoded_images), figsize=(10, 5))\n",
        "for idx, image in enumerate(decoded_images):\n",
        "    ax = plt.subplot(1, len(decoded_images), idx+1)\n",
        "    ax.imshow(image.detach().numpy().reshape(28, 28))\n",
        "plt.show()"
      ],
      "metadata": {
        "colab": {
          "base_uri": "https://localhost:8080/",
          "height": 146
        },
        "id": "24j6KPwlb1RH",
        "outputId": "a2765f5a-337c-48a8-ff3c-6fa3e3e63eef"
      },
      "execution_count": null,
      "outputs": [
        {
          "output_type": "display_data",
          "data": {
            "text/plain": [
              "<Figure size 720x360 with 5 Axes>"
            ],
            "image/png": "[encoded data removed]"
          },
          "metadata": {
            "needs_background": "light"
          }
        }
      ]
    },
    {
      "cell_type": "code",
      "source": [
        "decoded_images.shape"
      ],
      "metadata": {
        "colab": {
          "base_uri": "https://localhost:8080/"
        },
        "id": "77vvtDLUcffL",
        "outputId": "ea24d53b-e477-4d90-cba1-b18c4019e6a2"
      },
      "execution_count": null,
      "outputs": [
        {
          "output_type": "execute_result",
          "data": {
            "text/plain": [
              "torch.Size([10, 784])"
            ]
          },
          "metadata": {},
          "execution_count": 79
        }
      ]
    }
  ]
}